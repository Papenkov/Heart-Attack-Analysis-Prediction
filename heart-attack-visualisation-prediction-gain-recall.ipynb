{
 "cells": [
  {
   "cell_type": "code",
   "execution_count": 1,
   "metadata": {
    "_cell_guid": "b1076dfc-b9ad-4769-8c92-a6c4dae69d19",
    "_kg_hide-output": true,
    "_uuid": "8f2839f25d086af736a60e9eeb907d3b93b6e0e5",
    "execution": {
     "iopub.execute_input": "2021-06-11T14:48:34.006643Z",
     "iopub.status.busy": "2021-06-11T14:48:34.005687Z",
     "iopub.status.idle": "2021-06-11T14:48:34.023140Z",
     "shell.execute_reply": "2021-06-11T14:48:34.023842Z",
     "shell.execute_reply.started": "2021-06-11T14:41:22.699868Z"
    },
    "papermill": {
     "duration": 0.066102,
     "end_time": "2021-06-11T14:48:34.024260",
     "exception": false,
     "start_time": "2021-06-11T14:48:33.958158",
     "status": "completed"
    },
    "tags": []
   },
   "outputs": [
    {
     "name": "stdout",
     "output_type": "stream",
     "text": [
      "/kaggle/input/heart-attack-analysis-prediction-dataset/o2Saturation.csv\n",
      "/kaggle/input/heart-attack-analysis-prediction-dataset/heart.csv\n"
     ]
    }
   ],
   "source": [
    "import numpy as np \n",
    "import pandas as pd\n",
    "\n",
    "import os\n",
    "for dirname, _, filenames in os.walk('/kaggle/input'):\n",
    "    for filename in filenames:\n",
    "        print(os.path.join(dirname, filename))"
   ]
  },
  {
   "cell_type": "markdown",
   "metadata": {},
   "source": [
    "This is a medical [dataset](https://www.kaggle.com/rashikrahmanpritom/heart-attack-analysis-prediction-dataset) with some features that probably can help predict heart attacks. In this notebook I will do:\n",
    "\n",
    "- Some visual analysis and show some relationships between features\n",
    "- Fit predictive models\n",
    "- Adjust recall metric to 95% for chosen model\n",
    "- Summaryze some observations"
   ]
  },
  {
   "cell_type": "code",
   "execution_count": 2,
   "metadata": {
    "execution": {
     "iopub.execute_input": "2021-06-11T14:48:34.119743Z",
     "iopub.status.busy": "2021-06-11T14:48:34.119157Z",
     "iopub.status.idle": "2021-06-11T14:48:34.919082Z",
     "shell.execute_reply": "2021-06-11T14:48:34.919470Z",
     "shell.execute_reply.started": "2021-06-11T14:41:25.020116Z"
    },
    "papermill": {
     "duration": 0.848032,
     "end_time": "2021-06-11T14:48:34.919634",
     "exception": false,
     "start_time": "2021-06-11T14:48:34.071602",
     "status": "completed"
    },
    "tags": []
   },
   "outputs": [],
   "source": [
    "# import moduls\n",
    "import seaborn as sns\n",
    "sns.set_style('darkgrid') # set grid for all graphs\n",
    "import matplotlib.pyplot as plt\n",
    "%matplotlib inline\n",
    "\n",
    "import warnings\n",
    "warnings.filterwarnings('ignore')\n",
    "from collections import Counter"
   ]
  },
  {
   "cell_type": "markdown",
   "metadata": {
    "papermill": {
     "duration": 0.043359,
     "end_time": "2021-06-11T14:48:35.094019",
     "exception": false,
     "start_time": "2021-06-11T14:48:35.050660",
     "status": "completed"
    },
    "tags": []
   },
   "source": [
    "# Discription of variables in data set"
   ]
  },
  {
   "cell_type": "markdown",
   "metadata": {
    "papermill": {
     "duration": 0.043412,
     "end_time": "2021-06-11T14:48:35.181205",
     "exception": false,
     "start_time": "2021-06-11T14:48:35.137793",
     "status": "completed"
    },
    "tags": []
   },
   "source": [
    "About this dataset\n",
    "Age : Age of the patient\n",
    "\n",
    "Sex : Sex of the patient\n",
    "\n",
    "exang: exercise induced angina (1 = yes; 0 = no)\n",
    "\n",
    "ca: number of major vessels (0-3)\n",
    "\n",
    "cp : Chest Pain type chest pain type (Value 1: typical angina\n",
    "Value 2: atypical angina\n",
    "Value 3: non-anginal pain\n",
    "Value 4: asymptomatic)\n",
    "\n",
    "trtbps : resting blood pressure (in mm Hg)\n",
    "\n",
    "chol : cholestoral in mg/dl fetched via BMI sensor\n",
    "\n",
    "fbs : (fasting blood sugar > 120 mg/dl) (1 = true; 0 = false)\n",
    "\n",
    "rest_ecg : resting electrocardiographic results\n",
    "\n",
    "Value 0: normal\n",
    "Value 1: having ST-T wave abnormality (T wave inversions and/or ST elevation or depression of > 0.05 mV)\n",
    "Value 2: showing probable or definite left ventricular hypertrophy by Estes' criteria\n",
    "thalach : maximum heart rate achieved\n",
    "\n",
    "target : 0= less chance of heart attack 1= more chance of heart attack"
   ]
  },
  {
   "cell_type": "markdown",
   "metadata": {
    "papermill": {
     "duration": 0.044622,
     "end_time": "2021-06-11T14:48:35.270851",
     "exception": false,
     "start_time": "2021-06-11T14:48:35.226229",
     "status": "completed"
    },
    "tags": []
   },
   "source": [
    "# Loading data and first sight at data frame"
   ]
  },
  {
   "cell_type": "code",
   "execution_count": 3,
   "metadata": {
    "execution": {
     "iopub.execute_input": "2021-06-11T14:48:35.363146Z",
     "iopub.status.busy": "2021-06-11T14:48:35.362542Z",
     "iopub.status.idle": "2021-06-11T14:48:35.378253Z",
     "shell.execute_reply": "2021-06-11T14:48:35.378711Z",
     "shell.execute_reply.started": "2021-06-11T14:41:29.928009Z"
    },
    "papermill": {
     "duration": 0.063394,
     "end_time": "2021-06-11T14:48:35.378939",
     "exception": false,
     "start_time": "2021-06-11T14:48:35.315545",
     "status": "completed"
    },
    "tags": []
   },
   "outputs": [],
   "source": [
    "data = pd.read_csv('/kaggle/input/heart-attack-analysis-prediction-dataset/heart.csv')"
   ]
  },
  {
   "cell_type": "code",
   "execution_count": 4,
   "metadata": {
    "execution": {
     "iopub.execute_input": "2021-06-11T14:48:35.470791Z",
     "iopub.status.busy": "2021-06-11T14:48:35.470243Z",
     "iopub.status.idle": "2021-06-11T14:48:35.494511Z",
     "shell.execute_reply": "2021-06-11T14:48:35.494935Z",
     "shell.execute_reply.started": "2021-06-04T11:41:29.546665Z"
    },
    "papermill": {
     "duration": 0.07146,
     "end_time": "2021-06-11T14:48:35.495096",
     "exception": false,
     "start_time": "2021-06-11T14:48:35.423636",
     "status": "completed"
    },
    "tags": []
   },
   "outputs": [
    {
     "data": {
      "text/html": [
       "<div>\n",
       "<style scoped>\n",
       "    .dataframe tbody tr th:only-of-type {\n",
       "        vertical-align: middle;\n",
       "    }\n",
       "\n",
       "    .dataframe tbody tr th {\n",
       "        vertical-align: top;\n",
       "    }\n",
       "\n",
       "    .dataframe thead th {\n",
       "        text-align: right;\n",
       "    }\n",
       "</style>\n",
       "<table border=\"1\" class=\"dataframe\">\n",
       "  <thead>\n",
       "    <tr style=\"text-align: right;\">\n",
       "      <th></th>\n",
       "      <th>age</th>\n",
       "      <th>sex</th>\n",
       "      <th>cp</th>\n",
       "      <th>trtbps</th>\n",
       "      <th>chol</th>\n",
       "      <th>fbs</th>\n",
       "      <th>restecg</th>\n",
       "      <th>thalachh</th>\n",
       "      <th>exng</th>\n",
       "      <th>oldpeak</th>\n",
       "      <th>slp</th>\n",
       "      <th>caa</th>\n",
       "      <th>thall</th>\n",
       "      <th>output</th>\n",
       "    </tr>\n",
       "  </thead>\n",
       "  <tbody>\n",
       "    <tr>\n",
       "      <th>0</th>\n",
       "      <td>63</td>\n",
       "      <td>1</td>\n",
       "      <td>3</td>\n",
       "      <td>145</td>\n",
       "      <td>233</td>\n",
       "      <td>1</td>\n",
       "      <td>0</td>\n",
       "      <td>150</td>\n",
       "      <td>0</td>\n",
       "      <td>2.3</td>\n",
       "      <td>0</td>\n",
       "      <td>0</td>\n",
       "      <td>1</td>\n",
       "      <td>1</td>\n",
       "    </tr>\n",
       "    <tr>\n",
       "      <th>1</th>\n",
       "      <td>37</td>\n",
       "      <td>1</td>\n",
       "      <td>2</td>\n",
       "      <td>130</td>\n",
       "      <td>250</td>\n",
       "      <td>0</td>\n",
       "      <td>1</td>\n",
       "      <td>187</td>\n",
       "      <td>0</td>\n",
       "      <td>3.5</td>\n",
       "      <td>0</td>\n",
       "      <td>0</td>\n",
       "      <td>2</td>\n",
       "      <td>1</td>\n",
       "    </tr>\n",
       "    <tr>\n",
       "      <th>2</th>\n",
       "      <td>41</td>\n",
       "      <td>0</td>\n",
       "      <td>1</td>\n",
       "      <td>130</td>\n",
       "      <td>204</td>\n",
       "      <td>0</td>\n",
       "      <td>0</td>\n",
       "      <td>172</td>\n",
       "      <td>0</td>\n",
       "      <td>1.4</td>\n",
       "      <td>2</td>\n",
       "      <td>0</td>\n",
       "      <td>2</td>\n",
       "      <td>1</td>\n",
       "    </tr>\n",
       "    <tr>\n",
       "      <th>3</th>\n",
       "      <td>56</td>\n",
       "      <td>1</td>\n",
       "      <td>1</td>\n",
       "      <td>120</td>\n",
       "      <td>236</td>\n",
       "      <td>0</td>\n",
       "      <td>1</td>\n",
       "      <td>178</td>\n",
       "      <td>0</td>\n",
       "      <td>0.8</td>\n",
       "      <td>2</td>\n",
       "      <td>0</td>\n",
       "      <td>2</td>\n",
       "      <td>1</td>\n",
       "    </tr>\n",
       "    <tr>\n",
       "      <th>4</th>\n",
       "      <td>57</td>\n",
       "      <td>0</td>\n",
       "      <td>0</td>\n",
       "      <td>120</td>\n",
       "      <td>354</td>\n",
       "      <td>0</td>\n",
       "      <td>1</td>\n",
       "      <td>163</td>\n",
       "      <td>1</td>\n",
       "      <td>0.6</td>\n",
       "      <td>2</td>\n",
       "      <td>0</td>\n",
       "      <td>2</td>\n",
       "      <td>1</td>\n",
       "    </tr>\n",
       "  </tbody>\n",
       "</table>\n",
       "</div>"
      ],
      "text/plain": [
       "   age  sex  cp  trtbps  chol  fbs  restecg  thalachh  exng  oldpeak  slp  \\\n",
       "0   63    1   3     145   233    1        0       150     0      2.3    0   \n",
       "1   37    1   2     130   250    0        1       187     0      3.5    0   \n",
       "2   41    0   1     130   204    0        0       172     0      1.4    2   \n",
       "3   56    1   1     120   236    0        1       178     0      0.8    2   \n",
       "4   57    0   0     120   354    0        1       163     1      0.6    2   \n",
       "\n",
       "   caa  thall  output  \n",
       "0    0      1       1  \n",
       "1    0      2       1  \n",
       "2    0      2       1  \n",
       "3    0      2       1  \n",
       "4    0      2       1  "
      ]
     },
     "execution_count": 4,
     "metadata": {},
     "output_type": "execute_result"
    }
   ],
   "source": [
    "data.head()"
   ]
  },
  {
   "cell_type": "code",
   "execution_count": 5,
   "metadata": {
    "execution": {
     "iopub.execute_input": "2021-06-11T14:48:35.586447Z",
     "iopub.status.busy": "2021-06-11T14:48:35.585909Z",
     "iopub.status.idle": "2021-06-11T14:48:35.590962Z",
     "shell.execute_reply": "2021-06-11T14:48:35.590527Z",
     "shell.execute_reply.started": "2021-06-04T11:41:32.919069Z"
    },
    "papermill": {
     "duration": 0.05173,
     "end_time": "2021-06-11T14:48:35.591087",
     "exception": false,
     "start_time": "2021-06-11T14:48:35.539357",
     "status": "completed"
    },
    "tags": []
   },
   "outputs": [
    {
     "data": {
      "text/plain": [
       "(303, 14)"
      ]
     },
     "execution_count": 5,
     "metadata": {},
     "output_type": "execute_result"
    }
   ],
   "source": [
    "data.shape"
   ]
  },
  {
   "cell_type": "code",
   "execution_count": 6,
   "metadata": {
    "execution": {
     "iopub.execute_input": "2021-06-11T14:48:35.699015Z",
     "iopub.status.busy": "2021-06-11T14:48:35.698407Z",
     "iopub.status.idle": "2021-06-11T14:48:35.700758Z",
     "shell.execute_reply": "2021-06-11T14:48:35.701463Z",
     "shell.execute_reply.started": "2021-06-04T11:41:35.092734Z"
    },
    "papermill": {
     "duration": 0.064176,
     "end_time": "2021-06-11T14:48:35.701659",
     "exception": false,
     "start_time": "2021-06-11T14:48:35.637483",
     "status": "completed"
    },
    "tags": []
   },
   "outputs": [
    {
     "name": "stdout",
     "output_type": "stream",
     "text": [
      "<class 'pandas.core.frame.DataFrame'>\n",
      "RangeIndex: 303 entries, 0 to 302\n",
      "Data columns (total 14 columns):\n",
      " #   Column    Non-Null Count  Dtype  \n",
      "---  ------    --------------  -----  \n",
      " 0   age       303 non-null    int64  \n",
      " 1   sex       303 non-null    int64  \n",
      " 2   cp        303 non-null    int64  \n",
      " 3   trtbps    303 non-null    int64  \n",
      " 4   chol      303 non-null    int64  \n",
      " 5   fbs       303 non-null    int64  \n",
      " 6   restecg   303 non-null    int64  \n",
      " 7   thalachh  303 non-null    int64  \n",
      " 8   exng      303 non-null    int64  \n",
      " 9   oldpeak   303 non-null    float64\n",
      " 10  slp       303 non-null    int64  \n",
      " 11  caa       303 non-null    int64  \n",
      " 12  thall     303 non-null    int64  \n",
      " 13  output    303 non-null    int64  \n",
      "dtypes: float64(1), int64(13)\n",
      "memory usage: 33.3 KB\n"
     ]
    }
   ],
   "source": [
    "data.info()"
   ]
  },
  {
   "cell_type": "markdown",
   "metadata": {
    "papermill": {
     "duration": 0.044537,
     "end_time": "2021-06-11T14:48:35.792482",
     "exception": false,
     "start_time": "2021-06-11T14:48:35.747945",
     "status": "completed"
    },
    "tags": []
   },
   "source": [
    "We have only numeric (int, float) types"
   ]
  },
  {
   "cell_type": "code",
   "execution_count": 7,
   "metadata": {
    "execution": {
     "iopub.execute_input": "2021-06-11T14:48:35.885740Z",
     "iopub.status.busy": "2021-06-11T14:48:35.885186Z",
     "iopub.status.idle": "2021-06-11T14:48:35.891422Z",
     "shell.execute_reply": "2021-06-11T14:48:35.891890Z",
     "shell.execute_reply.started": "2021-06-04T11:41:39.102272Z"
    },
    "papermill": {
     "duration": 0.054075,
     "end_time": "2021-06-11T14:48:35.892041",
     "exception": false,
     "start_time": "2021-06-11T14:48:35.837966",
     "status": "completed"
    },
    "tags": []
   },
   "outputs": [
    {
     "data": {
      "text/plain": [
       "age         0\n",
       "sex         0\n",
       "cp          0\n",
       "trtbps      0\n",
       "chol        0\n",
       "fbs         0\n",
       "restecg     0\n",
       "thalachh    0\n",
       "exng        0\n",
       "oldpeak     0\n",
       "slp         0\n",
       "caa         0\n",
       "thall       0\n",
       "output      0\n",
       "dtype: int64"
      ]
     },
     "execution_count": 7,
     "metadata": {},
     "output_type": "execute_result"
    }
   ],
   "source": [
    "data.isnull().sum()"
   ]
  },
  {
   "cell_type": "markdown",
   "metadata": {
    "papermill": {
     "duration": 0.045656,
     "end_time": "2021-06-11T14:48:35.982328",
     "exception": false,
     "start_time": "2021-06-11T14:48:35.936672",
     "status": "completed"
    },
    "tags": []
   },
   "source": [
    "Data doesn't have missing values"
   ]
  },
  {
   "cell_type": "code",
   "execution_count": 8,
   "metadata": {
    "execution": {
     "iopub.execute_input": "2021-06-11T14:48:36.076254Z",
     "iopub.status.busy": "2021-06-11T14:48:36.075696Z",
     "iopub.status.idle": "2021-06-11T14:48:36.221272Z",
     "shell.execute_reply": "2021-06-11T14:48:36.221651Z",
     "shell.execute_reply.started": "2021-06-04T11:42:09.681708Z"
    },
    "papermill": {
     "duration": 0.193519,
     "end_time": "2021-06-11T14:48:36.221827",
     "exception": false,
     "start_time": "2021-06-11T14:48:36.028308",
     "status": "completed"
    },
    "tags": []
   },
   "outputs": [
    {
     "data": {
      "image/png": "[encoded data removed]",
      "text/plain": [
       "<Figure size 432x288 with 1 Axes>"
      ]
     },
     "metadata": {},
     "output_type": "display_data"
    }
   ],
   "source": [
    "fig = plt.figure()\n",
    "ax = fig.add_subplot()\n",
    "ax.set(title='Distribution of target variable')\n",
    "data.output.value_counts().plot(kind='pie', autopct=\"%.2f\")\n",
    "plt.show()"
   ]
  },
  {
   "cell_type": "code",
   "execution_count": 9,
   "metadata": {
    "execution": {
     "iopub.execute_input": "2021-06-11T14:48:36.318896Z",
     "iopub.status.busy": "2021-06-11T14:48:36.318321Z",
     "iopub.status.idle": "2021-06-11T14:48:36.329319Z",
     "shell.execute_reply": "2021-06-11T14:48:36.328880Z",
     "shell.execute_reply.started": "2021-06-11T14:41:35.420756Z"
    },
    "papermill": {
     "duration": 0.059659,
     "end_time": "2021-06-11T14:48:36.329439",
     "exception": false,
     "start_time": "2021-06-11T14:48:36.269780",
     "status": "completed"
    },
    "tags": []
   },
   "outputs": [
    {
     "name": "stdout",
     "output_type": "stream",
     "text": [
      "age has 41 unique values\n",
      "sex has 2 unique values\n",
      "cp has 4 unique values\n",
      "trtbps has 49 unique values\n",
      "chol has 152 unique values\n",
      "fbs has 2 unique values\n",
      "restecg has 3 unique values\n",
      "thalachh has 91 unique values\n",
      "exng has 2 unique values\n",
      "oldpeak has 40 unique values\n",
      "slp has 3 unique values\n",
      "caa has 5 unique values\n",
      "thall has 4 unique values\n",
      "output has 2 unique values\n"
     ]
    }
   ],
   "source": [
    "for col in data.columns:\n",
    "    n = data[col].nunique()\n",
    "    print(col + \" has %s unique values\" %n)"
   ]
  },
  {
   "cell_type": "markdown",
   "metadata": {
    "papermill": {
     "duration": 0.046419,
     "end_time": "2021-06-11T14:48:36.421872",
     "exception": false,
     "start_time": "2021-06-11T14:48:36.375453",
     "status": "completed"
    },
    "tags": []
   },
   "source": [
    "We see here that some of variables have 2-5 unique values. I will treat it like categorical variables. Collect numeric and categorical columns separetly"
   ]
  },
  {
   "cell_type": "code",
   "execution_count": 10,
   "metadata": {
    "execution": {
     "iopub.execute_input": "2021-06-11T14:48:36.524611Z",
     "iopub.status.busy": "2021-06-11T14:48:36.523765Z",
     "iopub.status.idle": "2021-06-11T14:48:36.528167Z",
     "shell.execute_reply": "2021-06-11T14:48:36.527715Z",
     "shell.execute_reply.started": "2021-06-11T14:41:38.799966Z"
    },
    "papermill": {
     "duration": 0.06026,
     "end_time": "2021-06-11T14:48:36.528288",
     "exception": false,
     "start_time": "2021-06-11T14:48:36.468028",
     "status": "completed"
    },
    "tags": []
   },
   "outputs": [
    {
     "name": "stdout",
     "output_type": "stream",
     "text": [
      "Numeric columns are:\n",
      "['age', 'trtbps', 'chol', 'thalachh', 'oldpeak']\n",
      "Categorical columns are:\n",
      "['sex', 'cp', 'fbs', 'restecg', 'exng', 'slp', 'caa', 'thall', 'output']\n"
     ]
    }
   ],
   "source": [
    "num_cols = [col for col in data.columns if data[col].nunique() > 5]\n",
    "cat_cols = [col for col in data.columns if data[col].nunique() <= 5]\n",
    "print('Numeric columns are:', num_cols, 'Categorical columns are:', cat_cols, sep='\\n')"
   ]
  },
  {
   "cell_type": "code",
   "execution_count": 11,
   "metadata": {
    "execution": {
     "iopub.execute_input": "2021-06-11T14:48:36.635113Z",
     "iopub.status.busy": "2021-06-11T14:48:36.631140Z",
     "iopub.status.idle": "2021-06-11T14:48:36.661117Z",
     "shell.execute_reply": "2021-06-11T14:48:36.661698Z",
     "shell.execute_reply.started": "2021-06-04T11:42:45.681219Z"
    },
    "papermill": {
     "duration": 0.087249,
     "end_time": "2021-06-11T14:48:36.661923",
     "exception": false,
     "start_time": "2021-06-11T14:48:36.574674",
     "status": "completed"
    },
    "tags": []
   },
   "outputs": [
    {
     "data": {
      "text/html": [
       "<div>\n",
       "<style scoped>\n",
       "    .dataframe tbody tr th:only-of-type {\n",
       "        vertical-align: middle;\n",
       "    }\n",
       "\n",
       "    .dataframe tbody tr th {\n",
       "        vertical-align: top;\n",
       "    }\n",
       "\n",
       "    .dataframe thead th {\n",
       "        text-align: right;\n",
       "    }\n",
       "</style>\n",
       "<table border=\"1\" class=\"dataframe\">\n",
       "  <thead>\n",
       "    <tr style=\"text-align: right;\">\n",
       "      <th></th>\n",
       "      <th>age</th>\n",
       "      <th>trtbps</th>\n",
       "      <th>chol</th>\n",
       "      <th>thalachh</th>\n",
       "      <th>oldpeak</th>\n",
       "    </tr>\n",
       "  </thead>\n",
       "  <tbody>\n",
       "    <tr>\n",
       "      <th>count</th>\n",
       "      <td>303.000000</td>\n",
       "      <td>303.000000</td>\n",
       "      <td>303.000000</td>\n",
       "      <td>303.000000</td>\n",
       "      <td>303.000000</td>\n",
       "    </tr>\n",
       "    <tr>\n",
       "      <th>mean</th>\n",
       "      <td>54.366337</td>\n",
       "      <td>131.623762</td>\n",
       "      <td>246.264026</td>\n",
       "      <td>149.646865</td>\n",
       "      <td>1.039604</td>\n",
       "    </tr>\n",
       "    <tr>\n",
       "      <th>std</th>\n",
       "      <td>9.082101</td>\n",
       "      <td>17.538143</td>\n",
       "      <td>51.830751</td>\n",
       "      <td>22.905161</td>\n",
       "      <td>1.161075</td>\n",
       "    </tr>\n",
       "    <tr>\n",
       "      <th>min</th>\n",
       "      <td>29.000000</td>\n",
       "      <td>94.000000</td>\n",
       "      <td>126.000000</td>\n",
       "      <td>71.000000</td>\n",
       "      <td>0.000000</td>\n",
       "    </tr>\n",
       "    <tr>\n",
       "      <th>25%</th>\n",
       "      <td>47.500000</td>\n",
       "      <td>120.000000</td>\n",
       "      <td>211.000000</td>\n",
       "      <td>133.500000</td>\n",
       "      <td>0.000000</td>\n",
       "    </tr>\n",
       "    <tr>\n",
       "      <th>50%</th>\n",
       "      <td>55.000000</td>\n",
       "      <td>130.000000</td>\n",
       "      <td>240.000000</td>\n",
       "      <td>153.000000</td>\n",
       "      <td>0.800000</td>\n",
       "    </tr>\n",
       "    <tr>\n",
       "      <th>75%</th>\n",
       "      <td>61.000000</td>\n",
       "      <td>140.000000</td>\n",
       "      <td>274.500000</td>\n",
       "      <td>166.000000</td>\n",
       "      <td>1.600000</td>\n",
       "    </tr>\n",
       "    <tr>\n",
       "      <th>max</th>\n",
       "      <td>77.000000</td>\n",
       "      <td>200.000000</td>\n",
       "      <td>564.000000</td>\n",
       "      <td>202.000000</td>\n",
       "      <td>6.200000</td>\n",
       "    </tr>\n",
       "  </tbody>\n",
       "</table>\n",
       "</div>"
      ],
      "text/plain": [
       "              age      trtbps        chol    thalachh     oldpeak\n",
       "count  303.000000  303.000000  303.000000  303.000000  303.000000\n",
       "mean    54.366337  131.623762  246.264026  149.646865    1.039604\n",
       "std      9.082101   17.538143   51.830751   22.905161    1.161075\n",
       "min     29.000000   94.000000  126.000000   71.000000    0.000000\n",
       "25%     47.500000  120.000000  211.000000  133.500000    0.000000\n",
       "50%     55.000000  130.000000  240.000000  153.000000    0.800000\n",
       "75%     61.000000  140.000000  274.500000  166.000000    1.600000\n",
       "max     77.000000  200.000000  564.000000  202.000000    6.200000"
      ]
     },
     "execution_count": 11,
     "metadata": {},
     "output_type": "execute_result"
    }
   ],
   "source": [
    "data[num_cols].describe()"
   ]
  },
  {
   "cell_type": "markdown",
   "metadata": {
    "papermill": {
     "duration": 0.046732,
     "end_time": "2021-06-11T14:48:36.767960",
     "exception": false,
     "start_time": "2021-06-11T14:48:36.721228",
     "status": "completed"
    },
    "tags": []
   },
   "source": [
    "Distribution of numeric data"
   ]
  },
  {
   "cell_type": "markdown",
   "metadata": {
    "papermill": {
     "duration": 0.046393,
     "end_time": "2021-06-11T14:48:36.860593",
     "exception": false,
     "start_time": "2021-06-11T14:48:36.814200",
     "status": "completed"
    },
    "tags": []
   },
   "source": [
    "# Visialization"
   ]
  },
  {
   "cell_type": "code",
   "execution_count": 12,
   "metadata": {
    "execution": {
     "iopub.execute_input": "2021-06-11T14:48:36.957749Z",
     "iopub.status.busy": "2021-06-11T14:48:36.956866Z",
     "iopub.status.idle": "2021-06-11T14:48:40.663117Z",
     "shell.execute_reply": "2021-06-11T14:48:40.663562Z",
     "shell.execute_reply.started": "2021-06-04T11:43:59.536132Z"
    },
    "papermill": {
     "duration": 3.756061,
     "end_time": "2021-06-11T14:48:40.663717",
     "exception": false,
     "start_time": "2021-06-11T14:48:36.907656",
     "status": "completed"
    },
    "tags": []
   },
   "outputs": [
    {
     "data": {
      "image/png": "[encoded data removed]",
      "text/plain": [
       "<Figure size 942.375x900 with 20 Axes>"
      ]
     },
     "metadata": {
      "needs_background": "light"
     },
     "output_type": "display_data"
    }
   ],
   "source": [
    "sns.pairplot(data, vars=num_cols, hue='output', corner=True)\n",
    "plt.show()"
   ]
  },
  {
   "cell_type": "markdown",
   "metadata": {
    "papermill": {
     "duration": 0.052176,
     "end_time": "2021-06-11T14:48:40.768623",
     "exception": false,
     "start_time": "2021-06-11T14:48:40.716447",
     "status": "completed"
    },
    "tags": []
   },
   "source": [
    "**Conclusions:**\n",
    "* It doesn't look like any variables have correlation. Maybe only 'thalachh' and 'age' have light negative correlation.\n",
    "* Interesting histigrams of 'oldpeak'. Most of observations have low 'oldpeak' (< 2) but most of all have chance of heart attack.\n",
    "* Interesting histigrams of 'thalachh': we can say that maximum heart rate can increase chance of heart attack."
   ]
  },
  {
   "cell_type": "code",
   "execution_count": 13,
   "metadata": {
    "execution": {
     "iopub.execute_input": "2021-06-11T14:48:40.907481Z",
     "iopub.status.busy": "2021-06-11T14:48:40.880880Z",
     "iopub.status.idle": "2021-06-11T14:48:41.146591Z",
     "shell.execute_reply": "2021-06-11T14:48:41.146064Z",
     "shell.execute_reply.started": "2021-06-04T11:52:24.257988Z"
    },
    "papermill": {
     "duration": 0.325064,
     "end_time": "2021-06-11T14:48:41.146712",
     "exception": false,
     "start_time": "2021-06-11T14:48:40.821648",
     "status": "completed"
    },
    "tags": []
   },
   "outputs": [
    {
     "data": {
      "image/png": "[encoded data removed]",
      "text/plain": [
       "<Figure size 432x288 with 1 Axes>"
      ]
     },
     "metadata": {
      "needs_background": "light"
     },
     "output_type": "display_data"
    }
   ],
   "source": [
    "sns.histplot(data=data, x=\"thalachh\", hue=\"output\", kde=True)\n",
    "plt.show()"
   ]
  },
  {
   "cell_type": "markdown",
   "metadata": {
    "papermill": {
     "duration": 0.054316,
     "end_time": "2021-06-11T14:48:41.254772",
     "exception": false,
     "start_time": "2021-06-11T14:48:41.200456",
     "status": "completed"
    },
    "tags": []
   },
   "source": [
    "**Not all variables were described on dataset page, I took this one from [disscusions](http://www.kaggle.com/rashikrahmanpritom/heart-attack-analysis-prediction-dataset/discussion/234843):**"
   ]
  },
  {
   "cell_type": "markdown",
   "metadata": {
    "execution": {
     "iopub.execute_input": "2021-05-23T09:41:09.640372Z",
     "iopub.status.busy": "2021-05-23T09:41:09.639739Z",
     "iopub.status.idle": "2021-05-23T09:41:09.647179Z",
     "shell.execute_reply": "2021-05-23T09:41:09.646115Z",
     "shell.execute_reply.started": "2021-05-23T09:41:09.640314Z"
    },
    "papermill": {
     "duration": 0.053356,
     "end_time": "2021-06-11T14:48:41.362248",
     "exception": false,
     "start_time": "2021-06-11T14:48:41.308892",
     "status": "completed"
    },
    "tags": []
   },
   "source": [
    "1. age - age in years\n",
    "\n",
    "2. sex - sex (1 = male; 0 = female)\n",
    "\n",
    "3. cp - chest pain type (1 = typical angina; 2 = atypical angina; 3 = non-anginal pain; 0 = asymptomatic)\n",
    "\n",
    "4. trestbps - resting blood pressure (in mm Hg on admission to the hospital)\n",
    "\n",
    "5. chol - serum cholestoral in mg/dl\n",
    "\n",
    "6. fbs - fasting blood sugar > 120 mg/dl (1 = true; 0 = false)\n",
    "\n",
    "7. restecg - resting electrocardiographic results (1 = normal; 2 = having ST-T wave abnormality; 0 = hypertrophy)\n",
    "\n",
    "8. thalach - maximum heart rate achieved\n",
    "\n",
    "9. exang - exercise induced angina (1 = yes; 0 = no)\n",
    "\n",
    "10. oldpeak - ST depression induced by exercise relative to rest\n",
    "\n",
    "11. slope - the slope of the peak exercise ST segment (2 = upsloping; 1 = flat; 0 = downsloping)\n",
    "\n",
    "12. ca - number of major vessels (0-3) colored by flourosopy\n",
    "\n",
    "13. thal - 2 = normal; 1 = fixed defect; 3 = reversable defect\n",
    "\n",
    "14. num - the predicted attribute - diagnosis of heart disease (angiographic disease status) (Value 0 = < diameter narrowing; Value 1 = > 50% diameter narrowing)\n",
    "\n",
    "Thanks to [jaykumar1607](http://www.kaggle.com/jaykumar1607)"
   ]
  },
  {
   "cell_type": "markdown",
   "metadata": {
    "papermill": {
     "duration": 0.05346,
     "end_time": "2021-06-11T14:48:41.469284",
     "exception": false,
     "start_time": "2021-06-11T14:48:41.415824",
     "status": "completed"
    },
    "tags": []
   },
   "source": [
    "**Here I would like to examine dependance \"chance of heart attack\" and other features. But at first I have to convert some numeric data to categorical (do binning)**"
   ]
  },
  {
   "cell_type": "code",
   "execution_count": 14,
   "metadata": {
    "execution": {
     "iopub.execute_input": "2021-06-11T14:48:41.581633Z",
     "iopub.status.busy": "2021-06-11T14:48:41.581021Z",
     "iopub.status.idle": "2021-06-11T14:48:41.584135Z",
     "shell.execute_reply": "2021-06-11T14:48:41.583670Z",
     "shell.execute_reply.started": "2021-06-11T14:41:46.720176Z"
    },
    "papermill": {
     "duration": 0.061037,
     "end_time": "2021-06-11T14:48:41.584262",
     "exception": false,
     "start_time": "2021-06-11T14:48:41.523225",
     "status": "completed"
    },
    "tags": []
   },
   "outputs": [],
   "source": [
    "cat_data = data.copy()"
   ]
  },
  {
   "cell_type": "code",
   "execution_count": 15,
   "metadata": {
    "execution": {
     "iopub.execute_input": "2021-06-11T14:48:41.705086Z",
     "iopub.status.busy": "2021-06-11T14:48:41.704297Z",
     "iopub.status.idle": "2021-06-11T14:48:41.707689Z",
     "shell.execute_reply": "2021-06-11T14:48:41.708078Z",
     "shell.execute_reply.started": "2021-06-11T14:41:48.906842Z"
    },
    "papermill": {
     "duration": 0.069917,
     "end_time": "2021-06-11T14:48:41.708233",
     "exception": false,
     "start_time": "2021-06-11T14:48:41.638316",
     "status": "completed"
    },
    "tags": []
   },
   "outputs": [
    {
     "data": {
      "text/html": [
       "<div>\n",
       "<style scoped>\n",
       "    .dataframe tbody tr th:only-of-type {\n",
       "        vertical-align: middle;\n",
       "    }\n",
       "\n",
       "    .dataframe tbody tr th {\n",
       "        vertical-align: top;\n",
       "    }\n",
       "\n",
       "    .dataframe thead th {\n",
       "        text-align: right;\n",
       "    }\n",
       "</style>\n",
       "<table border=\"1\" class=\"dataframe\">\n",
       "  <thead>\n",
       "    <tr style=\"text-align: right;\">\n",
       "      <th></th>\n",
       "      <th>age</th>\n",
       "      <th>sex</th>\n",
       "      <th>cp</th>\n",
       "      <th>trtbps</th>\n",
       "      <th>chol</th>\n",
       "      <th>fbs</th>\n",
       "      <th>restecg</th>\n",
       "      <th>thalachh</th>\n",
       "      <th>exng</th>\n",
       "      <th>oldpeak</th>\n",
       "      <th>slp</th>\n",
       "      <th>caa</th>\n",
       "      <th>thall</th>\n",
       "      <th>output</th>\n",
       "    </tr>\n",
       "  </thead>\n",
       "  <tbody>\n",
       "    <tr>\n",
       "      <th>0</th>\n",
       "      <td>63</td>\n",
       "      <td>1</td>\n",
       "      <td>3</td>\n",
       "      <td>145</td>\n",
       "      <td>233</td>\n",
       "      <td>1</td>\n",
       "      <td>0</td>\n",
       "      <td>150</td>\n",
       "      <td>0</td>\n",
       "      <td>2.3</td>\n",
       "      <td>0</td>\n",
       "      <td>0</td>\n",
       "      <td>1</td>\n",
       "      <td>1</td>\n",
       "    </tr>\n",
       "    <tr>\n",
       "      <th>1</th>\n",
       "      <td>37</td>\n",
       "      <td>1</td>\n",
       "      <td>2</td>\n",
       "      <td>130</td>\n",
       "      <td>250</td>\n",
       "      <td>0</td>\n",
       "      <td>1</td>\n",
       "      <td>187</td>\n",
       "      <td>0</td>\n",
       "      <td>3.5</td>\n",
       "      <td>0</td>\n",
       "      <td>0</td>\n",
       "      <td>2</td>\n",
       "      <td>1</td>\n",
       "    </tr>\n",
       "    <tr>\n",
       "      <th>2</th>\n",
       "      <td>41</td>\n",
       "      <td>0</td>\n",
       "      <td>1</td>\n",
       "      <td>130</td>\n",
       "      <td>204</td>\n",
       "      <td>0</td>\n",
       "      <td>0</td>\n",
       "      <td>172</td>\n",
       "      <td>0</td>\n",
       "      <td>1.4</td>\n",
       "      <td>2</td>\n",
       "      <td>0</td>\n",
       "      <td>2</td>\n",
       "      <td>1</td>\n",
       "    </tr>\n",
       "    <tr>\n",
       "      <th>3</th>\n",
       "      <td>56</td>\n",
       "      <td>1</td>\n",
       "      <td>1</td>\n",
       "      <td>120</td>\n",
       "      <td>236</td>\n",
       "      <td>0</td>\n",
       "      <td>1</td>\n",
       "      <td>178</td>\n",
       "      <td>0</td>\n",
       "      <td>0.8</td>\n",
       "      <td>2</td>\n",
       "      <td>0</td>\n",
       "      <td>2</td>\n",
       "      <td>1</td>\n",
       "    </tr>\n",
       "    <tr>\n",
       "      <th>4</th>\n",
       "      <td>57</td>\n",
       "      <td>0</td>\n",
       "      <td>0</td>\n",
       "      <td>120</td>\n",
       "      <td>354</td>\n",
       "      <td>0</td>\n",
       "      <td>1</td>\n",
       "      <td>163</td>\n",
       "      <td>1</td>\n",
       "      <td>0.6</td>\n",
       "      <td>2</td>\n",
       "      <td>0</td>\n",
       "      <td>2</td>\n",
       "      <td>1</td>\n",
       "    </tr>\n",
       "  </tbody>\n",
       "</table>\n",
       "</div>"
      ],
      "text/plain": [
       "   age  sex  cp  trtbps  chol  fbs  restecg  thalachh  exng  oldpeak  slp  \\\n",
       "0   63    1   3     145   233    1        0       150     0      2.3    0   \n",
       "1   37    1   2     130   250    0        1       187     0      3.5    0   \n",
       "2   41    0   1     130   204    0        0       172     0      1.4    2   \n",
       "3   56    1   1     120   236    0        1       178     0      0.8    2   \n",
       "4   57    0   0     120   354    0        1       163     1      0.6    2   \n",
       "\n",
       "   caa  thall  output  \n",
       "0    0      1       1  \n",
       "1    0      2       1  \n",
       "2    0      2       1  \n",
       "3    0      2       1  \n",
       "4    0      2       1  "
      ]
     },
     "execution_count": 15,
     "metadata": {},
     "output_type": "execute_result"
    }
   ],
   "source": [
    "cat_data.head()"
   ]
  },
  {
   "cell_type": "markdown",
   "metadata": {
    "papermill": {
     "duration": 0.053088,
     "end_time": "2021-06-11T14:48:41.815228",
     "exception": false,
     "start_time": "2021-06-11T14:48:41.762140",
     "status": "completed"
    },
    "tags": []
   },
   "source": [
    "# Binning and rename values"
   ]
  },
  {
   "cell_type": "code",
   "execution_count": 16,
   "metadata": {
    "execution": {
     "iopub.execute_input": "2021-06-11T14:48:41.928627Z",
     "iopub.status.busy": "2021-06-11T14:48:41.927797Z",
     "iopub.status.idle": "2021-06-11T14:48:41.930470Z",
     "shell.execute_reply": "2021-06-11T14:48:41.929963Z",
     "shell.execute_reply.started": "2021-06-11T14:41:51.719863Z"
    },
    "papermill": {
     "duration": 0.061289,
     "end_time": "2021-06-11T14:48:41.930590",
     "exception": false,
     "start_time": "2021-06-11T14:48:41.869301",
     "status": "completed"
    },
    "tags": []
   },
   "outputs": [],
   "source": [
    "# function for calculation max heart rate ('thalachh') normal/critical for person\n",
    "# it calculates as: 220 - age, and then compare with value in 'thalachh' columns\n",
    "\n",
    "def calc_max_pulse(col_max_heart_rate, col_age):\n",
    "    x = np.array(col_max_heart_rate)\n",
    "    y = np.array(col_age)\n",
    "    changed_array = []\n",
    "    for n in range(len(x)):\n",
    "        if (x[n]) <= (220 - y[n]):\n",
    "            changed_array.append('normal')\n",
    "        else: \n",
    "            changed_array.append('critical')\n",
    "    return changed_array"
   ]
  },
  {
   "cell_type": "code",
   "execution_count": 17,
   "metadata": {
    "execution": {
     "iopub.execute_input": "2021-06-11T14:48:42.051272Z",
     "iopub.status.busy": "2021-06-11T14:48:42.050597Z",
     "iopub.status.idle": "2021-06-11T14:48:42.054116Z",
     "shell.execute_reply": "2021-06-11T14:48:42.053580Z",
     "shell.execute_reply.started": "2021-06-11T14:41:53.890245Z"
    },
    "papermill": {
     "duration": 0.070075,
     "end_time": "2021-06-11T14:48:42.054243",
     "exception": false,
     "start_time": "2021-06-11T14:48:41.984168",
     "status": "completed"
    },
    "tags": []
   },
   "outputs": [],
   "source": [
    "## binning of numerical variables\n",
    "\n",
    "cat_data['trtbps'] = pd.cut(cat_data['trtbps'], bins = [0, 120, 129, 139, 159, 179, 10000], labels = ['Optimal', 'Normal', 'High normal', \n",
    "                                                                                              'Grade 1 hypertension', 'Grade 2 hypertension',\n",
    "                                                                                              'Grade 3 hypertension'])\n",
    "\n",
    "cat_data['thalachh'] = calc_max_pulse(cat_data['thalachh'], cat_data['age'])\n",
    "\n",
    "cat_data['age'] = pd.cut(cat_data['age'], bins = [0,45,60,200], labels = ['Adults','Mid Adults','Elderly'])\n",
    "\n",
    "cat_data['chol'] = pd.cut(cat_data['chol'], bins = [0, 200, 239, 600], labels = ['Ideal', 'Borderline high', 'High'])"
   ]
  },
  {
   "cell_type": "markdown",
   "metadata": {
    "papermill": {
     "duration": 0.053102,
     "end_time": "2021-06-11T14:48:42.160923",
     "exception": false,
     "start_time": "2021-06-11T14:48:42.107821",
     "status": "completed"
    },
    "tags": []
   },
   "source": [
    "\n",
    "[Binning blood pressure](http://en.wikipedia.org/wiki/Blood_pressure)\n",
    "\n",
    "[Age binnig](http://kidspicturedictionary.com/english-through-pictures/people-english-through-pictures/age-physical-description/) thanks to [bhuvanchennoju](http://www.kaggle.com/bhuvanchennoju) and his [great notebook](https://www.kaggle.com/bhuvanchennoju/data-stroytelling-auc-focus-on-strokes#Summary)\n",
    "\n",
    "[Cholesterol level](http://www.cholesterolmenu.com/cholesterol-levels-chart/)\n",
    "I suspect that our data['chol'] is 'Total cholesterol'"
   ]
  },
  {
   "cell_type": "markdown",
   "metadata": {
    "papermill": {
     "duration": 0.053952,
     "end_time": "2021-06-11T14:48:42.268987",
     "exception": false,
     "start_time": "2021-06-11T14:48:42.215035",
     "status": "completed"
    },
    "tags": []
   },
   "source": [
    "**Rename features for more informative graphs**"
   ]
  },
  {
   "cell_type": "code",
   "execution_count": 18,
   "metadata": {
    "_kg_hide-input": true,
    "execution": {
     "iopub.execute_input": "2021-06-11T14:48:42.392084Z",
     "iopub.status.busy": "2021-06-11T14:48:42.391250Z",
     "iopub.status.idle": "2021-06-11T14:48:42.394404Z",
     "shell.execute_reply": "2021-06-11T14:48:42.393966Z",
     "shell.execute_reply.started": "2021-06-11T14:41:56.868010Z"
    },
    "papermill": {
     "duration": 0.071715,
     "end_time": "2021-06-11T14:48:42.394530",
     "exception": false,
     "start_time": "2021-06-11T14:48:42.322815",
     "status": "completed"
    },
    "tags": []
   },
   "outputs": [],
   "source": [
    "cat_data['sex'].replace({0: 'female', 1: 'male'},inplace=True)\n",
    "cat_data['cp'].replace({1: 'typical angina', 2: 'atypical angina', 3: 'non-anginal pain', 0: 'asymptomatic'},inplace=True)\n",
    "cat_data['output'].replace({0: 'less risk', 1: 'risk'},inplace=True)\n",
    "cat_data['fbs'].replace({0: 'blood sugar less 120 mg/dl', 1: 'blood sugar more 120 mg/dl'},inplace=True)\n",
    "cat_data['restecg'].replace({1: 'normal', 2: 'having ST-T wave abnormality', 0: 'hypertrophy'},inplace=True)\n",
    "cat_data['exng'].replace({0: 'no exercise', 1: 'exercise induced angina'},inplace=True)\n",
    "cat_data['slp'].replace({0: 'downsloping', 1: 'flat', 2: 'upsloping'},inplace=True)\n",
    "cat_data['caa'].replace({0: '0 major vessel', 1: '1 major vessel', 2: '2 major vessels', 3: '3 major vessels', 4: '4 major vessels'},inplace=True)\n",
    "cat_data['thall'].replace({1: 'fixed defect', 2: 'normal', 3: 'reversable defect'},inplace=True)"
   ]
  },
  {
   "cell_type": "code",
   "execution_count": 19,
   "metadata": {
    "execution": {
     "iopub.execute_input": "2021-06-11T14:48:42.537397Z",
     "iopub.status.busy": "2021-06-11T14:48:42.528004Z",
     "iopub.status.idle": "2021-06-11T14:48:44.497847Z",
     "shell.execute_reply": "2021-06-11T14:48:44.497326Z",
     "shell.execute_reply.started": "2021-06-11T14:41:59.190137Z"
    },
    "papermill": {
     "duration": 2.04945,
     "end_time": "2021-06-11T14:48:44.497975",
     "exception": false,
     "start_time": "2021-06-11T14:48:42.448525",
     "status": "completed"
    },
    "tags": []
   },
   "outputs": [
    {
     "data": {
      "image/png": "[encoded data removed]",
      "text/plain": [
       "<Figure size 1800x1800 with 13 Axes>"
      ]
     },
     "metadata": {
      "needs_background": "light"
     },
     "output_type": "display_data"
    }
   ],
   "source": [
    "fig = plt.figure(figsize=(25,25))\n",
    "n = 1\n",
    "for column in cat_data.drop('oldpeak', axis=1):\n",
    "    ax = plt.subplot(4,4,n)\n",
    "    sns.countplot(x='output', hue=column, data=cat_data)\n",
    "    n += 1\n",
    "plt.show()"
   ]
  },
  {
   "cell_type": "markdown",
   "metadata": {
    "papermill": {
     "duration": 0.059417,
     "end_time": "2021-06-11T14:48:44.615625",
     "exception": false,
     "start_time": "2021-06-11T14:48:44.556208",
     "status": "completed"
    },
    "tags": []
   },
   "source": [
    "**Conclusions:** \n",
    "* Women more vulnerable than men\n",
    "* Chest pain (cp) angina (typical/atypical) can indicate people who have a risk\n",
    "* A bit confusing: we have more risk obsertation in \"Optimal\" blood pressure (trtbps) group and \"Normal\" group in esting electrocardiographic results (restecg). thall = \"normal\" the same\n",
    "* Cholesterol and blood sugar don't informative for us\n",
    "* \"Exng\", \"slp\", \"caa\" have one strong tendence in risk group\n",
    "* Some strange value for feature 'thall' = 0. It wasn't described anywhere.\n",
    "\n",
    "\n",
    "I would say this plots a bit confusing. I thought that it would be some correlation between high rate of heart rate and cholesterol or elderly people would have more chance to be in risk but it doesn't observed."
   ]
  },
  {
   "cell_type": "code",
   "execution_count": 20,
   "metadata": {
    "execution": {
     "iopub.execute_input": "2021-06-11T14:48:44.756168Z",
     "iopub.status.busy": "2021-06-11T14:48:44.750161Z",
     "iopub.status.idle": "2021-06-11T14:48:44.759844Z",
     "shell.execute_reply": "2021-06-11T14:48:44.759384Z",
     "shell.execute_reply.started": "2021-06-11T14:42:06.736674Z"
    },
    "papermill": {
     "duration": 0.080385,
     "end_time": "2021-06-11T14:48:44.759986",
     "exception": false,
     "start_time": "2021-06-11T14:48:44.679601",
     "status": "completed"
    },
    "tags": []
   },
   "outputs": [
    {
     "data": {
      "text/html": [
       "<div>\n",
       "<style scoped>\n",
       "    .dataframe tbody tr th:only-of-type {\n",
       "        vertical-align: middle;\n",
       "    }\n",
       "\n",
       "    .dataframe tbody tr th {\n",
       "        vertical-align: top;\n",
       "    }\n",
       "\n",
       "    .dataframe thead th {\n",
       "        text-align: right;\n",
       "    }\n",
       "</style>\n",
       "<table border=\"1\" class=\"dataframe\">\n",
       "  <thead>\n",
       "    <tr style=\"text-align: right;\">\n",
       "      <th></th>\n",
       "      <th>age</th>\n",
       "      <th>sex</th>\n",
       "      <th>cp</th>\n",
       "      <th>trtbps</th>\n",
       "      <th>chol</th>\n",
       "      <th>fbs</th>\n",
       "      <th>restecg</th>\n",
       "      <th>thalachh</th>\n",
       "      <th>exng</th>\n",
       "      <th>oldpeak</th>\n",
       "      <th>slp</th>\n",
       "      <th>caa</th>\n",
       "      <th>thall</th>\n",
       "      <th>output</th>\n",
       "    </tr>\n",
       "  </thead>\n",
       "  <tbody>\n",
       "    <tr>\n",
       "      <th>48</th>\n",
       "      <td>Mid Adults</td>\n",
       "      <td>female</td>\n",
       "      <td>atypical angina</td>\n",
       "      <td>Normal</td>\n",
       "      <td>Borderline high</td>\n",
       "      <td>blood sugar less 120 mg/dl</td>\n",
       "      <td>hypertrophy</td>\n",
       "      <td>normal</td>\n",
       "      <td>no exercise</td>\n",
       "      <td>0.0</td>\n",
       "      <td>upsloping</td>\n",
       "      <td>0 major vessel</td>\n",
       "      <td>0</td>\n",
       "      <td>risk</td>\n",
       "    </tr>\n",
       "    <tr>\n",
       "      <th>281</th>\n",
       "      <td>Mid Adults</td>\n",
       "      <td>male</td>\n",
       "      <td>asymptomatic</td>\n",
       "      <td>Normal</td>\n",
       "      <td>Borderline high</td>\n",
       "      <td>blood sugar more 120 mg/dl</td>\n",
       "      <td>normal</td>\n",
       "      <td>normal</td>\n",
       "      <td>exercise induced angina</td>\n",
       "      <td>1.0</td>\n",
       "      <td>flat</td>\n",
       "      <td>0 major vessel</td>\n",
       "      <td>0</td>\n",
       "      <td>less risk</td>\n",
       "    </tr>\n",
       "  </tbody>\n",
       "</table>\n",
       "</div>"
      ],
      "text/plain": [
       "            age     sex               cp  trtbps             chol  \\\n",
       "48   Mid Adults  female  atypical angina  Normal  Borderline high   \n",
       "281  Mid Adults    male     asymptomatic  Normal  Borderline high   \n",
       "\n",
       "                            fbs      restecg thalachh  \\\n",
       "48   blood sugar less 120 mg/dl  hypertrophy   normal   \n",
       "281  blood sugar more 120 mg/dl       normal   normal   \n",
       "\n",
       "                        exng  oldpeak        slp             caa thall  \\\n",
       "48               no exercise      0.0  upsloping  0 major vessel     0   \n",
       "281  exercise induced angina      1.0       flat  0 major vessel     0   \n",
       "\n",
       "        output  \n",
       "48        risk  \n",
       "281  less risk  "
      ]
     },
     "execution_count": 20,
     "metadata": {},
     "output_type": "execute_result"
    }
   ],
   "source": [
    "cat_data[(cat_data['thall'] == 0)]"
   ]
  },
  {
   "cell_type": "code",
   "execution_count": 21,
   "metadata": {
    "execution": {
     "iopub.execute_input": "2021-06-11T14:48:44.894018Z",
     "iopub.status.busy": "2021-06-11T14:48:44.893311Z",
     "iopub.status.idle": "2021-06-11T14:48:44.897068Z",
     "shell.execute_reply": "2021-06-11T14:48:44.897471Z",
     "shell.execute_reply.started": "2021-06-11T14:42:09.223894Z"
    },
    "papermill": {
     "duration": 0.078456,
     "end_time": "2021-06-11T14:48:44.897630",
     "exception": false,
     "start_time": "2021-06-11T14:48:44.819174",
     "status": "completed"
    },
    "tags": []
   },
   "outputs": [
    {
     "data": {
      "text/html": [
       "<div>\n",
       "<style scoped>\n",
       "    .dataframe tbody tr th:only-of-type {\n",
       "        vertical-align: middle;\n",
       "    }\n",
       "\n",
       "    .dataframe tbody tr th {\n",
       "        vertical-align: top;\n",
       "    }\n",
       "\n",
       "    .dataframe thead th {\n",
       "        text-align: right;\n",
       "    }\n",
       "</style>\n",
       "<table border=\"1\" class=\"dataframe\">\n",
       "  <thead>\n",
       "    <tr style=\"text-align: right;\">\n",
       "      <th></th>\n",
       "      <th></th>\n",
       "      <th>output</th>\n",
       "    </tr>\n",
       "    <tr>\n",
       "      <th>output</th>\n",
       "      <th>thall</th>\n",
       "      <th></th>\n",
       "    </tr>\n",
       "  </thead>\n",
       "  <tbody>\n",
       "    <tr>\n",
       "      <th rowspan=\"4\" valign=\"top\">less risk</th>\n",
       "      <th>0</th>\n",
       "      <td>1</td>\n",
       "    </tr>\n",
       "    <tr>\n",
       "      <th>fixed defect</th>\n",
       "      <td>12</td>\n",
       "    </tr>\n",
       "    <tr>\n",
       "      <th>normal</th>\n",
       "      <td>36</td>\n",
       "    </tr>\n",
       "    <tr>\n",
       "      <th>reversable defect</th>\n",
       "      <td>89</td>\n",
       "    </tr>\n",
       "    <tr>\n",
       "      <th rowspan=\"4\" valign=\"top\">risk</th>\n",
       "      <th>0</th>\n",
       "      <td>1</td>\n",
       "    </tr>\n",
       "    <tr>\n",
       "      <th>fixed defect</th>\n",
       "      <td>6</td>\n",
       "    </tr>\n",
       "    <tr>\n",
       "      <th>normal</th>\n",
       "      <td>130</td>\n",
       "    </tr>\n",
       "    <tr>\n",
       "      <th>reversable defect</th>\n",
       "      <td>28</td>\n",
       "    </tr>\n",
       "  </tbody>\n",
       "</table>\n",
       "</div>"
      ],
      "text/plain": [
       "                             output\n",
       "output    thall                    \n",
       "less risk 0                       1\n",
       "          fixed defect           12\n",
       "          normal                 36\n",
       "          reversable defect      89\n",
       "risk      0                       1\n",
       "          fixed defect            6\n",
       "          normal                130\n",
       "          reversable defect      28"
      ]
     },
     "execution_count": 21,
     "metadata": {},
     "output_type": "execute_result"
    }
   ],
   "source": [
    "cat_data.groupby(['output', 'thall']).agg({'output': 'count'})"
   ]
  },
  {
   "cell_type": "markdown",
   "metadata": {
    "papermill": {
     "duration": 0.059327,
     "end_time": "2021-06-11T14:48:45.015389",
     "exception": false,
     "start_time": "2021-06-11T14:48:44.956062",
     "status": "completed"
    },
    "tags": []
   },
   "source": [
    "We have 2 observations. One in risk col and another in less risk col. I will change \"thall = 0\" values to most frequent in \"risk\" and \"less risk\" groups"
   ]
  },
  {
   "cell_type": "code",
   "execution_count": 22,
   "metadata": {
    "execution": {
     "iopub.execute_input": "2021-06-11T14:48:45.137702Z",
     "iopub.status.busy": "2021-06-11T14:48:45.136849Z",
     "iopub.status.idle": "2021-06-11T14:48:45.142197Z",
     "shell.execute_reply": "2021-06-11T14:48:45.142566Z",
     "shell.execute_reply.started": "2021-06-11T14:44:40.265099Z"
    },
    "papermill": {
     "duration": 0.067461,
     "end_time": "2021-06-11T14:48:45.142740",
     "exception": false,
     "start_time": "2021-06-11T14:48:45.075279",
     "status": "completed"
    },
    "tags": []
   },
   "outputs": [],
   "source": [
    "cat_data.loc[((cat_data['thall'] == 0) & (cat_data['output'] == 'less risk')), ('thall')] = 'reversable defect'"
   ]
  },
  {
   "cell_type": "code",
   "execution_count": 23,
   "metadata": {
    "execution": {
     "iopub.execute_input": "2021-06-11T14:48:45.270640Z",
     "iopub.status.busy": "2021-06-11T14:48:45.270043Z",
     "iopub.status.idle": "2021-06-11T14:48:45.274654Z",
     "shell.execute_reply": "2021-06-11T14:48:45.275149Z",
     "shell.execute_reply.started": "2021-06-11T14:45:25.543482Z"
    },
    "papermill": {
     "duration": 0.070073,
     "end_time": "2021-06-11T14:48:45.275299",
     "exception": false,
     "start_time": "2021-06-11T14:48:45.205226",
     "status": "completed"
    },
    "tags": []
   },
   "outputs": [],
   "source": [
    "cat_data.loc[((cat_data['thall'] == 0) & (cat_data['output'] == 'risk')), ('thall')] = 'normal'"
   ]
  },
  {
   "cell_type": "code",
   "execution_count": 24,
   "metadata": {
    "execution": {
     "iopub.execute_input": "2021-06-11T14:48:45.394954Z",
     "iopub.status.busy": "2021-06-11T14:48:45.394324Z",
     "iopub.status.idle": "2021-06-11T14:48:45.406194Z",
     "shell.execute_reply": "2021-06-11T14:48:45.406674Z",
     "shell.execute_reply.started": "2021-06-11T14:45:27.176817Z"
    },
    "papermill": {
     "duration": 0.07297,
     "end_time": "2021-06-11T14:48:45.406848",
     "exception": false,
     "start_time": "2021-06-11T14:48:45.333878",
     "status": "completed"
    },
    "tags": []
   },
   "outputs": [
    {
     "data": {
      "text/html": [
       "<div>\n",
       "<style scoped>\n",
       "    .dataframe tbody tr th:only-of-type {\n",
       "        vertical-align: middle;\n",
       "    }\n",
       "\n",
       "    .dataframe tbody tr th {\n",
       "        vertical-align: top;\n",
       "    }\n",
       "\n",
       "    .dataframe thead th {\n",
       "        text-align: right;\n",
       "    }\n",
       "</style>\n",
       "<table border=\"1\" class=\"dataframe\">\n",
       "  <thead>\n",
       "    <tr style=\"text-align: right;\">\n",
       "      <th></th>\n",
       "      <th></th>\n",
       "      <th>output</th>\n",
       "    </tr>\n",
       "    <tr>\n",
       "      <th>output</th>\n",
       "      <th>thall</th>\n",
       "      <th></th>\n",
       "    </tr>\n",
       "  </thead>\n",
       "  <tbody>\n",
       "    <tr>\n",
       "      <th rowspan=\"3\" valign=\"top\">less risk</th>\n",
       "      <th>fixed defect</th>\n",
       "      <td>12</td>\n",
       "    </tr>\n",
       "    <tr>\n",
       "      <th>normal</th>\n",
       "      <td>36</td>\n",
       "    </tr>\n",
       "    <tr>\n",
       "      <th>reversable defect</th>\n",
       "      <td>90</td>\n",
       "    </tr>\n",
       "    <tr>\n",
       "      <th rowspan=\"3\" valign=\"top\">risk</th>\n",
       "      <th>fixed defect</th>\n",
       "      <td>6</td>\n",
       "    </tr>\n",
       "    <tr>\n",
       "      <th>normal</th>\n",
       "      <td>131</td>\n",
       "    </tr>\n",
       "    <tr>\n",
       "      <th>reversable defect</th>\n",
       "      <td>28</td>\n",
       "    </tr>\n",
       "  </tbody>\n",
       "</table>\n",
       "</div>"
      ],
      "text/plain": [
       "                             output\n",
       "output    thall                    \n",
       "less risk fixed defect           12\n",
       "          normal                 36\n",
       "          reversable defect      90\n",
       "risk      fixed defect            6\n",
       "          normal                131\n",
       "          reversable defect      28"
      ]
     },
     "execution_count": 24,
     "metadata": {},
     "output_type": "execute_result"
    }
   ],
   "source": [
    "cat_data.groupby(['output', 'thall']).agg({'output': 'count'})"
   ]
  },
  {
   "cell_type": "markdown",
   "metadata": {
    "papermill": {
     "duration": 0.057754,
     "end_time": "2021-06-11T14:48:45.522897",
     "exception": false,
     "start_time": "2021-06-11T14:48:45.465143",
     "status": "completed"
    },
    "tags": []
   },
   "source": [
    "Check correlations between features (I use main data without binning)"
   ]
  },
  {
   "cell_type": "code",
   "execution_count": 25,
   "metadata": {
    "execution": {
     "iopub.execute_input": "2021-06-11T14:48:45.642415Z",
     "iopub.status.busy": "2021-06-11T14:48:45.641823Z",
     "iopub.status.idle": "2021-06-11T14:48:46.679339Z",
     "shell.execute_reply": "2021-06-11T14:48:46.678815Z",
     "shell.execute_reply.started": "2021-06-04T11:56:46.354136Z"
    },
    "papermill": {
     "duration": 1.098229,
     "end_time": "2021-06-11T14:48:46.679466",
     "exception": false,
     "start_time": "2021-06-11T14:48:45.581237",
     "status": "completed"
    },
    "tags": []
   },
   "outputs": [
    {
     "data": {
      "image/png": "[encoded data removed]",
      "text/plain": [
       "<Figure size 1080x1080 with 2 Axes>"
      ]
     },
     "metadata": {
      "needs_background": "light"
     },
     "output_type": "display_data"
    }
   ],
   "source": [
    "fig = plt.figure(figsize=(15,15))\n",
    "sns.heatmap(data.corr(), annot=True, cmap='coolwarm', vmin=-1, vmax=1)\n",
    "plt.show()"
   ]
  },
  {
   "cell_type": "markdown",
   "metadata": {
    "papermill": {
     "duration": 0.063308,
     "end_time": "2021-06-11T14:48:46.806677",
     "exception": false,
     "start_time": "2021-06-11T14:48:46.743369",
     "status": "completed"
    },
    "tags": []
   },
   "source": [
    "* The strongest correlation between features \"slp\" and \"oldpeak\". And it's negative correlation\n",
    "* Target feature \"output\" has stronger possitive correlation with \"cp\", \"thalach\" and stronger negative correlation with \"exng\", \"oldpeak\"."
   ]
  },
  {
   "cell_type": "markdown",
   "metadata": {
    "papermill": {
     "duration": 0.062993,
     "end_time": "2021-06-11T14:48:46.933645",
     "exception": false,
     "start_time": "2021-06-11T14:48:46.870652",
     "status": "completed"
    },
    "tags": []
   },
   "source": [
    "# Preparation data for modeling"
   ]
  },
  {
   "cell_type": "code",
   "execution_count": 26,
   "metadata": {
    "execution": {
     "iopub.execute_input": "2021-06-11T14:48:47.064798Z",
     "iopub.status.busy": "2021-06-11T14:48:47.064210Z",
     "iopub.status.idle": "2021-06-11T14:48:47.277987Z",
     "shell.execute_reply": "2021-06-11T14:48:47.277386Z",
     "shell.execute_reply.started": "2021-06-07T13:41:25.692641Z"
    },
    "papermill": {
     "duration": 0.281429,
     "end_time": "2021-06-11T14:48:47.278128",
     "exception": false,
     "start_time": "2021-06-11T14:48:46.996699",
     "status": "completed"
    },
    "tags": []
   },
   "outputs": [],
   "source": [
    "from sklearn.model_selection import train_test_split\n",
    "from sklearn.model_selection import cross_val_score, cross_validate, GridSearchCV\n",
    "from sklearn.preprocessing import StandardScaler\n",
    "from sklearn.preprocessing import LabelEncoder"
   ]
  },
  {
   "cell_type": "code",
   "execution_count": 27,
   "metadata": {
    "execution": {
     "iopub.execute_input": "2021-06-11T14:48:47.414343Z",
     "iopub.status.busy": "2021-06-11T14:48:47.413609Z",
     "iopub.status.idle": "2021-06-11T14:48:47.417448Z",
     "shell.execute_reply": "2021-06-11T14:48:47.416960Z",
     "shell.execute_reply.started": "2021-06-04T11:57:31.074116Z"
    },
    "papermill": {
     "duration": 0.073763,
     "end_time": "2021-06-11T14:48:47.417577",
     "exception": false,
     "start_time": "2021-06-11T14:48:47.343814",
     "status": "completed"
    },
    "tags": []
   },
   "outputs": [
    {
     "data": {
      "text/plain": [
       "Counter({1: 165, 0: 138})"
      ]
     },
     "execution_count": 27,
     "metadata": {},
     "output_type": "execute_result"
    }
   ],
   "source": [
    "Counter(data.output)"
   ]
  },
  {
   "cell_type": "markdown",
   "metadata": {
    "papermill": {
     "duration": 0.062788,
     "end_time": "2021-06-11T14:48:47.545049",
     "exception": false,
     "start_time": "2021-06-11T14:48:47.482261",
     "status": "completed"
    },
    "tags": []
   },
   "source": [
    "As we can see target variable is balanced and we haven't to do \"undersampling\" or \"oversampling\" things. Just separate our data with \"train_test_split\""
   ]
  },
  {
   "cell_type": "code",
   "execution_count": 28,
   "metadata": {
    "execution": {
     "iopub.execute_input": "2021-06-11T14:48:47.693501Z",
     "iopub.status.busy": "2021-06-11T14:48:47.692634Z",
     "iopub.status.idle": "2021-06-11T14:48:47.695578Z",
     "shell.execute_reply": "2021-06-11T14:48:47.695164Z",
     "shell.execute_reply.started": "2021-06-07T15:28:05.385728Z"
    },
    "papermill": {
     "duration": 0.088854,
     "end_time": "2021-06-11T14:48:47.695763",
     "exception": false,
     "start_time": "2021-06-11T14:48:47.606909",
     "status": "completed"
    },
    "tags": []
   },
   "outputs": [],
   "source": [
    "X = data.drop('output', axis=1)\n",
    "y = data.output"
   ]
  },
  {
   "cell_type": "code",
   "execution_count": 29,
   "metadata": {
    "execution": {
     "iopub.execute_input": "2021-06-11T14:48:47.839851Z",
     "iopub.status.busy": "2021-06-11T14:48:47.839280Z",
     "iopub.status.idle": "2021-06-11T14:48:47.841681Z",
     "shell.execute_reply": "2021-06-11T14:48:47.841159Z",
     "shell.execute_reply.started": "2021-06-07T15:28:07.042026Z"
    },
    "papermill": {
     "duration": 0.073994,
     "end_time": "2021-06-11T14:48:47.841822",
     "exception": false,
     "start_time": "2021-06-11T14:48:47.767828",
     "status": "completed"
    },
    "tags": []
   },
   "outputs": [],
   "source": [
    "X_train, X_test, y_train, y_test = train_test_split(X, y, test_size=0.25, random_state=0)"
   ]
  },
  {
   "cell_type": "markdown",
   "metadata": {
    "papermill": {
     "duration": 0.062111,
     "end_time": "2021-06-11T14:48:47.965944",
     "exception": false,
     "start_time": "2021-06-11T14:48:47.903833",
     "status": "completed"
    },
    "tags": []
   },
   "source": [
    "**I would like check difference between raw data, normalized and binning data. I will do 2 new data frame. First (\"scaled_X_train\") with normalized train data (using Standart Scaler), second (\"encodered_X_train\") with transformed numeric columns to categorical (binning like I did above and then use Label Encoder). And compare the results.**"
   ]
  },
  {
   "cell_type": "code",
   "execution_count": 30,
   "metadata": {
    "execution": {
     "iopub.execute_input": "2021-06-11T14:48:48.094527Z",
     "iopub.status.busy": "2021-06-11T14:48:48.093973Z",
     "iopub.status.idle": "2021-06-11T14:48:48.098790Z",
     "shell.execute_reply": "2021-06-11T14:48:48.098344Z",
     "shell.execute_reply.started": "2021-06-07T14:55:08.503629Z"
    },
    "papermill": {
     "duration": 0.070409,
     "end_time": "2021-06-11T14:48:48.098923",
     "exception": false,
     "start_time": "2021-06-11T14:48:48.028514",
     "status": "completed"
    },
    "tags": []
   },
   "outputs": [],
   "source": [
    "scaled_X_train = X_train.copy()"
   ]
  },
  {
   "cell_type": "code",
   "execution_count": 31,
   "metadata": {
    "execution": {
     "iopub.execute_input": "2021-06-11T14:48:48.226507Z",
     "iopub.status.busy": "2021-06-11T14:48:48.225640Z",
     "iopub.status.idle": "2021-06-11T14:48:48.238168Z",
     "shell.execute_reply": "2021-06-11T14:48:48.238581Z",
     "shell.execute_reply.started": "2021-06-07T15:29:41.079909Z"
    },
    "papermill": {
     "duration": 0.077984,
     "end_time": "2021-06-11T14:48:48.238760",
     "exception": false,
     "start_time": "2021-06-11T14:48:48.160776",
     "status": "completed"
    },
    "tags": []
   },
   "outputs": [
    {
     "data": {
      "text/html": [
       "<div>\n",
       "<style scoped>\n",
       "    .dataframe tbody tr th:only-of-type {\n",
       "        vertical-align: middle;\n",
       "    }\n",
       "\n",
       "    .dataframe tbody tr th {\n",
       "        vertical-align: top;\n",
       "    }\n",
       "\n",
       "    .dataframe thead th {\n",
       "        text-align: right;\n",
       "    }\n",
       "</style>\n",
       "<table border=\"1\" class=\"dataframe\">\n",
       "  <thead>\n",
       "    <tr style=\"text-align: right;\">\n",
       "      <th></th>\n",
       "      <th>age</th>\n",
       "      <th>sex</th>\n",
       "      <th>cp</th>\n",
       "      <th>trtbps</th>\n",
       "      <th>chol</th>\n",
       "      <th>fbs</th>\n",
       "      <th>restecg</th>\n",
       "      <th>thalachh</th>\n",
       "      <th>exng</th>\n",
       "      <th>oldpeak</th>\n",
       "      <th>slp</th>\n",
       "      <th>caa</th>\n",
       "      <th>thall</th>\n",
       "    </tr>\n",
       "  </thead>\n",
       "  <tbody>\n",
       "    <tr>\n",
       "      <th>173</th>\n",
       "      <td>58</td>\n",
       "      <td>1</td>\n",
       "      <td>2</td>\n",
       "      <td>132</td>\n",
       "      <td>224</td>\n",
       "      <td>0</td>\n",
       "      <td>0</td>\n",
       "      <td>173</td>\n",
       "      <td>0</td>\n",
       "      <td>3.2</td>\n",
       "      <td>2</td>\n",
       "      <td>2</td>\n",
       "      <td>3</td>\n",
       "    </tr>\n",
       "    <tr>\n",
       "      <th>261</th>\n",
       "      <td>52</td>\n",
       "      <td>1</td>\n",
       "      <td>0</td>\n",
       "      <td>112</td>\n",
       "      <td>230</td>\n",
       "      <td>0</td>\n",
       "      <td>1</td>\n",
       "      <td>160</td>\n",
       "      <td>0</td>\n",
       "      <td>0.0</td>\n",
       "      <td>2</td>\n",
       "      <td>1</td>\n",
       "      <td>2</td>\n",
       "    </tr>\n",
       "    <tr>\n",
       "      <th>37</th>\n",
       "      <td>54</td>\n",
       "      <td>1</td>\n",
       "      <td>2</td>\n",
       "      <td>150</td>\n",
       "      <td>232</td>\n",
       "      <td>0</td>\n",
       "      <td>0</td>\n",
       "      <td>165</td>\n",
       "      <td>0</td>\n",
       "      <td>1.6</td>\n",
       "      <td>2</td>\n",
       "      <td>0</td>\n",
       "      <td>3</td>\n",
       "    </tr>\n",
       "    <tr>\n",
       "      <th>101</th>\n",
       "      <td>59</td>\n",
       "      <td>1</td>\n",
       "      <td>3</td>\n",
       "      <td>178</td>\n",
       "      <td>270</td>\n",
       "      <td>0</td>\n",
       "      <td>0</td>\n",
       "      <td>145</td>\n",
       "      <td>0</td>\n",
       "      <td>4.2</td>\n",
       "      <td>0</td>\n",
       "      <td>0</td>\n",
       "      <td>3</td>\n",
       "    </tr>\n",
       "    <tr>\n",
       "      <th>166</th>\n",
       "      <td>67</td>\n",
       "      <td>1</td>\n",
       "      <td>0</td>\n",
       "      <td>120</td>\n",
       "      <td>229</td>\n",
       "      <td>0</td>\n",
       "      <td>0</td>\n",
       "      <td>129</td>\n",
       "      <td>1</td>\n",
       "      <td>2.6</td>\n",
       "      <td>1</td>\n",
       "      <td>2</td>\n",
       "      <td>3</td>\n",
       "    </tr>\n",
       "  </tbody>\n",
       "</table>\n",
       "</div>"
      ],
      "text/plain": [
       "     age  sex  cp  trtbps  chol  fbs  restecg  thalachh  exng  oldpeak  slp  \\\n",
       "173   58    1   2     132   224    0        0       173     0      3.2    2   \n",
       "261   52    1   0     112   230    0        1       160     0      0.0    2   \n",
       "37    54    1   2     150   232    0        0       165     0      1.6    2   \n",
       "101   59    1   3     178   270    0        0       145     0      4.2    0   \n",
       "166   67    1   0     120   229    0        0       129     1      2.6    1   \n",
       "\n",
       "     caa  thall  \n",
       "173    2      3  \n",
       "261    1      2  \n",
       "37     0      3  \n",
       "101    0      3  \n",
       "166    2      3  "
      ]
     },
     "execution_count": 31,
     "metadata": {},
     "output_type": "execute_result"
    }
   ],
   "source": [
    "scaled_X_train.head()"
   ]
  },
  {
   "cell_type": "code",
   "execution_count": 32,
   "metadata": {
    "execution": {
     "iopub.execute_input": "2021-06-11T14:48:48.378112Z",
     "iopub.status.busy": "2021-06-11T14:48:48.373405Z",
     "iopub.status.idle": "2021-06-11T14:48:48.380603Z",
     "shell.execute_reply": "2021-06-11T14:48:48.380074Z",
     "shell.execute_reply.started": "2021-06-07T15:30:33.073051Z"
    },
    "papermill": {
     "duration": 0.078044,
     "end_time": "2021-06-11T14:48:48.380750",
     "exception": false,
     "start_time": "2021-06-11T14:48:48.302706",
     "status": "completed"
    },
    "tags": []
   },
   "outputs": [],
   "source": [
    "array = ['age', 'trtbps', 'chol', 'thalachh']\n",
    "scaler = StandardScaler()\n",
    "X_train_scaled = scaler.fit_transform(scaled_X_train[array])\n",
    "normalize_results = pd.DataFrame(X_train_scaled, index=scaled_X_train.index, columns=array)\n",
    "scaled_X_train.drop(array, axis=1, inplace=True)\n",
    "scaled_X_train = scaled_X_train.join(normalize_results)"
   ]
  },
  {
   "cell_type": "code",
   "execution_count": 33,
   "metadata": {
    "execution": {
     "iopub.execute_input": "2021-06-11T14:48:48.521205Z",
     "iopub.status.busy": "2021-06-11T14:48:48.520593Z",
     "iopub.status.idle": "2021-06-11T14:48:48.524491Z",
     "shell.execute_reply": "2021-06-11T14:48:48.524045Z",
     "shell.execute_reply.started": "2021-06-07T14:55:16.400544Z"
    },
    "papermill": {
     "duration": 0.079982,
     "end_time": "2021-06-11T14:48:48.524613",
     "exception": false,
     "start_time": "2021-06-11T14:48:48.444631",
     "status": "completed"
    },
    "tags": []
   },
   "outputs": [
    {
     "data": {
      "text/html": [
       "<div>\n",
       "<style scoped>\n",
       "    .dataframe tbody tr th:only-of-type {\n",
       "        vertical-align: middle;\n",
       "    }\n",
       "\n",
       "    .dataframe tbody tr th {\n",
       "        vertical-align: top;\n",
       "    }\n",
       "\n",
       "    .dataframe thead th {\n",
       "        text-align: right;\n",
       "    }\n",
       "</style>\n",
       "<table border=\"1\" class=\"dataframe\">\n",
       "  <thead>\n",
       "    <tr style=\"text-align: right;\">\n",
       "      <th></th>\n",
       "      <th>sex</th>\n",
       "      <th>cp</th>\n",
       "      <th>fbs</th>\n",
       "      <th>restecg</th>\n",
       "      <th>exng</th>\n",
       "      <th>oldpeak</th>\n",
       "      <th>slp</th>\n",
       "      <th>caa</th>\n",
       "      <th>thall</th>\n",
       "      <th>age</th>\n",
       "      <th>trtbps</th>\n",
       "      <th>chol</th>\n",
       "      <th>thalachh</th>\n",
       "    </tr>\n",
       "  </thead>\n",
       "  <tbody>\n",
       "    <tr>\n",
       "      <th>173</th>\n",
       "      <td>1</td>\n",
       "      <td>2</td>\n",
       "      <td>0</td>\n",
       "      <td>0</td>\n",
       "      <td>0</td>\n",
       "      <td>3.2</td>\n",
       "      <td>2</td>\n",
       "      <td>2</td>\n",
       "      <td>3</td>\n",
       "      <td>0.352565</td>\n",
       "      <td>0.020206</td>\n",
       "      <td>-0.435970</td>\n",
       "      <td>1.011893</td>\n",
       "    </tr>\n",
       "    <tr>\n",
       "      <th>261</th>\n",
       "      <td>1</td>\n",
       "      <td>0</td>\n",
       "      <td>0</td>\n",
       "      <td>1</td>\n",
       "      <td>0</td>\n",
       "      <td>0.0</td>\n",
       "      <td>2</td>\n",
       "      <td>1</td>\n",
       "      <td>2</td>\n",
       "      <td>-0.310686</td>\n",
       "      <td>-1.140980</td>\n",
       "      <td>-0.325394</td>\n",
       "      <td>0.453640</td>\n",
       "    </tr>\n",
       "    <tr>\n",
       "      <th>37</th>\n",
       "      <td>1</td>\n",
       "      <td>2</td>\n",
       "      <td>0</td>\n",
       "      <td>0</td>\n",
       "      <td>0</td>\n",
       "      <td>1.6</td>\n",
       "      <td>2</td>\n",
       "      <td>0</td>\n",
       "      <td>3</td>\n",
       "      <td>-0.089602</td>\n",
       "      <td>1.065272</td>\n",
       "      <td>-0.288536</td>\n",
       "      <td>0.668352</td>\n",
       "    </tr>\n",
       "    <tr>\n",
       "      <th>101</th>\n",
       "      <td>1</td>\n",
       "      <td>3</td>\n",
       "      <td>0</td>\n",
       "      <td>0</td>\n",
       "      <td>0</td>\n",
       "      <td>4.2</td>\n",
       "      <td>0</td>\n",
       "      <td>0</td>\n",
       "      <td>3</td>\n",
       "      <td>0.463107</td>\n",
       "      <td>2.690932</td>\n",
       "      <td>0.411776</td>\n",
       "      <td>-0.190498</td>\n",
       "    </tr>\n",
       "    <tr>\n",
       "      <th>166</th>\n",
       "      <td>1</td>\n",
       "      <td>0</td>\n",
       "      <td>0</td>\n",
       "      <td>0</td>\n",
       "      <td>1</td>\n",
       "      <td>2.6</td>\n",
       "      <td>1</td>\n",
       "      <td>2</td>\n",
       "      <td>3</td>\n",
       "      <td>1.347442</td>\n",
       "      <td>-0.676506</td>\n",
       "      <td>-0.343823</td>\n",
       "      <td>-0.877579</td>\n",
       "    </tr>\n",
       "  </tbody>\n",
       "</table>\n",
       "</div>"
      ],
      "text/plain": [
       "     sex  cp  fbs  restecg  exng  oldpeak  slp  caa  thall       age  \\\n",
       "173    1   2    0        0     0      3.2    2    2      3  0.352565   \n",
       "261    1   0    0        1     0      0.0    2    1      2 -0.310686   \n",
       "37     1   2    0        0     0      1.6    2    0      3 -0.089602   \n",
       "101    1   3    0        0     0      4.2    0    0      3  0.463107   \n",
       "166    1   0    0        0     1      2.6    1    2      3  1.347442   \n",
       "\n",
       "       trtbps      chol  thalachh  \n",
       "173  0.020206 -0.435970  1.011893  \n",
       "261 -1.140980 -0.325394  0.453640  \n",
       "37   1.065272 -0.288536  0.668352  \n",
       "101  2.690932  0.411776 -0.190498  \n",
       "166 -0.676506 -0.343823 -0.877579  "
      ]
     },
     "execution_count": 33,
     "metadata": {},
     "output_type": "execute_result"
    }
   ],
   "source": [
    "scaled_X_train.head()"
   ]
  },
  {
   "cell_type": "markdown",
   "metadata": {
    "papermill": {
     "duration": 0.062048,
     "end_time": "2021-06-11T14:48:48.649287",
     "exception": false,
     "start_time": "2021-06-11T14:48:48.587239",
     "status": "completed"
    },
    "tags": []
   },
   "source": [
    "***We do scaling after splitting for excluding data leakage in test data!!***"
   ]
  },
  {
   "cell_type": "code",
   "execution_count": 34,
   "metadata": {
    "execution": {
     "iopub.execute_input": "2021-06-11T14:48:48.778148Z",
     "iopub.status.busy": "2021-06-11T14:48:48.777610Z",
     "iopub.status.idle": "2021-06-11T14:48:48.781180Z",
     "shell.execute_reply": "2021-06-11T14:48:48.781639Z",
     "shell.execute_reply.started": "2021-06-07T15:30:37.837193Z"
    },
    "papermill": {
     "duration": 0.0689,
     "end_time": "2021-06-11T14:48:48.781809",
     "exception": false,
     "start_time": "2021-06-11T14:48:48.712909",
     "status": "completed"
    },
    "tags": []
   },
   "outputs": [],
   "source": [
    "encodered_X_train = X_train.copy()"
   ]
  },
  {
   "cell_type": "markdown",
   "metadata": {
    "papermill": {
     "duration": 0.062413,
     "end_time": "2021-06-11T14:48:48.907116",
     "exception": false,
     "start_time": "2021-06-11T14:48:48.844703",
     "status": "completed"
    },
    "tags": []
   },
   "source": [
    "Do the same I did before in binning section"
   ]
  },
  {
   "cell_type": "code",
   "execution_count": 35,
   "metadata": {
    "_kg_hide-input": true,
    "execution": {
     "iopub.execute_input": "2021-06-11T14:48:49.037946Z",
     "iopub.status.busy": "2021-06-11T14:48:49.036890Z",
     "iopub.status.idle": "2021-06-11T14:48:49.048925Z",
     "shell.execute_reply": "2021-06-11T14:48:49.049391Z",
     "shell.execute_reply.started": "2021-06-07T15:30:39.732772Z"
    },
    "papermill": {
     "duration": 0.080132,
     "end_time": "2021-06-11T14:48:49.049557",
     "exception": false,
     "start_time": "2021-06-11T14:48:48.969425",
     "status": "completed"
    },
    "tags": []
   },
   "outputs": [],
   "source": [
    "encodered_X_train['trtbps'] = pd.cut(encodered_X_train['trtbps'], bins = [0, 120, 129, 139, 159, 179, 10000], labels = ['Optimal', 'Normal', 'High normal', \n",
    "                                                                                              'Grade 1 hypertension', 'Grade 2 hypertension',\n",
    "                                                                                              'Grade 3 hypertension'])\n",
    "\n",
    "encodered_X_train['thalachh'] = calc_max_pulse(encodered_X_train['thalachh'], encodered_X_train['age'])\n",
    "\n",
    "encodered_X_train['age'] = pd.cut(encodered_X_train['age'], bins = [0,45,60,200], labels = ['Adults','Mid Adults','Elderly'])\n",
    "\n",
    "encodered_X_train['chol'] = pd.cut(encodered_X_train['chol'], bins = [0, 200, 239, 600], labels = ['Ideal', 'Borderline high', 'High'])"
   ]
  },
  {
   "cell_type": "code",
   "execution_count": 36,
   "metadata": {
    "execution": {
     "iopub.execute_input": "2021-06-11T14:48:49.186174Z",
     "iopub.status.busy": "2021-06-11T14:48:49.185196Z",
     "iopub.status.idle": "2021-06-11T14:48:49.191413Z",
     "shell.execute_reply": "2021-06-11T14:48:49.191941Z",
     "shell.execute_reply.started": "2021-06-07T15:30:41.50204Z"
    },
    "papermill": {
     "duration": 0.076257,
     "end_time": "2021-06-11T14:48:49.192120",
     "exception": false,
     "start_time": "2021-06-11T14:48:49.115863",
     "status": "completed"
    },
    "tags": []
   },
   "outputs": [],
   "source": [
    "encoder = LabelEncoder()\n",
    "for title in array:\n",
    "    encodered_X_train[title] = encoder.fit_transform(encodered_X_train[title])"
   ]
  },
  {
   "cell_type": "code",
   "execution_count": 37,
   "metadata": {
    "_kg_hide-input": true,
    "execution": {
     "iopub.execute_input": "2021-06-11T14:48:49.331939Z",
     "iopub.status.busy": "2021-06-11T14:48:49.331036Z",
     "iopub.status.idle": "2021-06-11T14:48:49.334197Z",
     "shell.execute_reply": "2021-06-11T14:48:49.334640Z",
     "shell.execute_reply.started": "2021-06-07T13:51:59.442336Z"
    },
    "papermill": {
     "duration": 0.073893,
     "end_time": "2021-06-11T14:48:49.334814",
     "exception": false,
     "start_time": "2021-06-11T14:48:49.260921",
     "status": "completed"
    },
    "tags": []
   },
   "outputs": [],
   "source": [
    "# IT CAN BE USED INSTEAD OF LabelEncoder()\n",
    "\n",
    "# col_for_dummy = ['age', 'cp', 'trtbps', 'chol', 'thalachh', 'slp', 'caa', 'thall']\n",
    "# dummy_df = pd.get_dummies(encodered_X_train[col_for_dummy])\n",
    "# encodered_X_train.drop(col_for_dummy, axis=1, inplace=True)\n",
    "# dummy_X_train = pd.concat([encodered_X_train, dummy_df], axis=1)\n",
    "# encodered_X_train = dummy_X_train"
   ]
  },
  {
   "cell_type": "code",
   "execution_count": 38,
   "metadata": {
    "execution": {
     "iopub.execute_input": "2021-06-11T14:48:49.466209Z",
     "iopub.status.busy": "2021-06-11T14:48:49.465359Z",
     "iopub.status.idle": "2021-06-11T14:48:49.477889Z",
     "shell.execute_reply": "2021-06-11T14:48:49.478268Z",
     "shell.execute_reply.started": "2021-06-07T15:30:43.53668Z"
    },
    "papermill": {
     "duration": 0.079395,
     "end_time": "2021-06-11T14:48:49.478435",
     "exception": false,
     "start_time": "2021-06-11T14:48:49.399040",
     "status": "completed"
    },
    "tags": []
   },
   "outputs": [
    {
     "data": {
      "text/html": [
       "<div>\n",
       "<style scoped>\n",
       "    .dataframe tbody tr th:only-of-type {\n",
       "        vertical-align: middle;\n",
       "    }\n",
       "\n",
       "    .dataframe tbody tr th {\n",
       "        vertical-align: top;\n",
       "    }\n",
       "\n",
       "    .dataframe thead th {\n",
       "        text-align: right;\n",
       "    }\n",
       "</style>\n",
       "<table border=\"1\" class=\"dataframe\">\n",
       "  <thead>\n",
       "    <tr style=\"text-align: right;\">\n",
       "      <th></th>\n",
       "      <th>age</th>\n",
       "      <th>sex</th>\n",
       "      <th>cp</th>\n",
       "      <th>trtbps</th>\n",
       "      <th>chol</th>\n",
       "      <th>fbs</th>\n",
       "      <th>restecg</th>\n",
       "      <th>thalachh</th>\n",
       "      <th>exng</th>\n",
       "      <th>oldpeak</th>\n",
       "      <th>slp</th>\n",
       "      <th>caa</th>\n",
       "      <th>thall</th>\n",
       "    </tr>\n",
       "  </thead>\n",
       "  <tbody>\n",
       "    <tr>\n",
       "      <th>173</th>\n",
       "      <td>2</td>\n",
       "      <td>1</td>\n",
       "      <td>2</td>\n",
       "      <td>3</td>\n",
       "      <td>0</td>\n",
       "      <td>0</td>\n",
       "      <td>0</td>\n",
       "      <td>0</td>\n",
       "      <td>0</td>\n",
       "      <td>3.2</td>\n",
       "      <td>2</td>\n",
       "      <td>2</td>\n",
       "      <td>3</td>\n",
       "    </tr>\n",
       "    <tr>\n",
       "      <th>261</th>\n",
       "      <td>2</td>\n",
       "      <td>1</td>\n",
       "      <td>0</td>\n",
       "      <td>5</td>\n",
       "      <td>0</td>\n",
       "      <td>0</td>\n",
       "      <td>1</td>\n",
       "      <td>1</td>\n",
       "      <td>0</td>\n",
       "      <td>0.0</td>\n",
       "      <td>2</td>\n",
       "      <td>1</td>\n",
       "      <td>2</td>\n",
       "    </tr>\n",
       "    <tr>\n",
       "      <th>37</th>\n",
       "      <td>2</td>\n",
       "      <td>1</td>\n",
       "      <td>2</td>\n",
       "      <td>0</td>\n",
       "      <td>0</td>\n",
       "      <td>0</td>\n",
       "      <td>0</td>\n",
       "      <td>1</td>\n",
       "      <td>0</td>\n",
       "      <td>1.6</td>\n",
       "      <td>2</td>\n",
       "      <td>0</td>\n",
       "      <td>3</td>\n",
       "    </tr>\n",
       "    <tr>\n",
       "      <th>101</th>\n",
       "      <td>2</td>\n",
       "      <td>1</td>\n",
       "      <td>3</td>\n",
       "      <td>1</td>\n",
       "      <td>1</td>\n",
       "      <td>0</td>\n",
       "      <td>0</td>\n",
       "      <td>1</td>\n",
       "      <td>0</td>\n",
       "      <td>4.2</td>\n",
       "      <td>0</td>\n",
       "      <td>0</td>\n",
       "      <td>3</td>\n",
       "    </tr>\n",
       "    <tr>\n",
       "      <th>166</th>\n",
       "      <td>1</td>\n",
       "      <td>1</td>\n",
       "      <td>0</td>\n",
       "      <td>5</td>\n",
       "      <td>0</td>\n",
       "      <td>0</td>\n",
       "      <td>0</td>\n",
       "      <td>1</td>\n",
       "      <td>1</td>\n",
       "      <td>2.6</td>\n",
       "      <td>1</td>\n",
       "      <td>2</td>\n",
       "      <td>3</td>\n",
       "    </tr>\n",
       "  </tbody>\n",
       "</table>\n",
       "</div>"
      ],
      "text/plain": [
       "     age  sex  cp  trtbps  chol  fbs  restecg  thalachh  exng  oldpeak  slp  \\\n",
       "173    2    1   2       3     0    0        0         0     0      3.2    2   \n",
       "261    2    1   0       5     0    0        1         1     0      0.0    2   \n",
       "37     2    1   2       0     0    0        0         1     0      1.6    2   \n",
       "101    2    1   3       1     1    0        0         1     0      4.2    0   \n",
       "166    1    1   0       5     0    0        0         1     1      2.6    1   \n",
       "\n",
       "     caa  thall  \n",
       "173    2      3  \n",
       "261    1      2  \n",
       "37     0      3  \n",
       "101    0      3  \n",
       "166    2      3  "
      ]
     },
     "execution_count": 38,
     "metadata": {},
     "output_type": "execute_result"
    }
   ],
   "source": [
    "encodered_X_train.head()"
   ]
  },
  {
   "cell_type": "code",
   "execution_count": 39,
   "metadata": {
    "execution": {
     "iopub.execute_input": "2021-06-11T14:48:49.609236Z",
     "iopub.status.busy": "2021-06-11T14:48:49.608413Z",
     "iopub.status.idle": "2021-06-11T14:48:49.621133Z",
     "shell.execute_reply": "2021-06-11T14:48:49.620594Z",
     "shell.execute_reply.started": "2021-06-07T15:30:48.001829Z"
    },
    "papermill": {
     "duration": 0.078604,
     "end_time": "2021-06-11T14:48:49.621256",
     "exception": false,
     "start_time": "2021-06-11T14:48:49.542652",
     "status": "completed"
    },
    "tags": []
   },
   "outputs": [
    {
     "data": {
      "text/html": [
       "<div>\n",
       "<style scoped>\n",
       "    .dataframe tbody tr th:only-of-type {\n",
       "        vertical-align: middle;\n",
       "    }\n",
       "\n",
       "    .dataframe tbody tr th {\n",
       "        vertical-align: top;\n",
       "    }\n",
       "\n",
       "    .dataframe thead th {\n",
       "        text-align: right;\n",
       "    }\n",
       "</style>\n",
       "<table border=\"1\" class=\"dataframe\">\n",
       "  <thead>\n",
       "    <tr style=\"text-align: right;\">\n",
       "      <th></th>\n",
       "      <th>age</th>\n",
       "      <th>sex</th>\n",
       "      <th>cp</th>\n",
       "      <th>trtbps</th>\n",
       "      <th>chol</th>\n",
       "      <th>fbs</th>\n",
       "      <th>restecg</th>\n",
       "      <th>thalachh</th>\n",
       "      <th>exng</th>\n",
       "      <th>oldpeak</th>\n",
       "      <th>slp</th>\n",
       "      <th>caa</th>\n",
       "      <th>thall</th>\n",
       "    </tr>\n",
       "  </thead>\n",
       "  <tbody>\n",
       "    <tr>\n",
       "      <th>173</th>\n",
       "      <td>58</td>\n",
       "      <td>1</td>\n",
       "      <td>2</td>\n",
       "      <td>132</td>\n",
       "      <td>224</td>\n",
       "      <td>0</td>\n",
       "      <td>0</td>\n",
       "      <td>173</td>\n",
       "      <td>0</td>\n",
       "      <td>3.2</td>\n",
       "      <td>2</td>\n",
       "      <td>2</td>\n",
       "      <td>3</td>\n",
       "    </tr>\n",
       "    <tr>\n",
       "      <th>261</th>\n",
       "      <td>52</td>\n",
       "      <td>1</td>\n",
       "      <td>0</td>\n",
       "      <td>112</td>\n",
       "      <td>230</td>\n",
       "      <td>0</td>\n",
       "      <td>1</td>\n",
       "      <td>160</td>\n",
       "      <td>0</td>\n",
       "      <td>0.0</td>\n",
       "      <td>2</td>\n",
       "      <td>1</td>\n",
       "      <td>2</td>\n",
       "    </tr>\n",
       "    <tr>\n",
       "      <th>37</th>\n",
       "      <td>54</td>\n",
       "      <td>1</td>\n",
       "      <td>2</td>\n",
       "      <td>150</td>\n",
       "      <td>232</td>\n",
       "      <td>0</td>\n",
       "      <td>0</td>\n",
       "      <td>165</td>\n",
       "      <td>0</td>\n",
       "      <td>1.6</td>\n",
       "      <td>2</td>\n",
       "      <td>0</td>\n",
       "      <td>3</td>\n",
       "    </tr>\n",
       "    <tr>\n",
       "      <th>101</th>\n",
       "      <td>59</td>\n",
       "      <td>1</td>\n",
       "      <td>3</td>\n",
       "      <td>178</td>\n",
       "      <td>270</td>\n",
       "      <td>0</td>\n",
       "      <td>0</td>\n",
       "      <td>145</td>\n",
       "      <td>0</td>\n",
       "      <td>4.2</td>\n",
       "      <td>0</td>\n",
       "      <td>0</td>\n",
       "      <td>3</td>\n",
       "    </tr>\n",
       "    <tr>\n",
       "      <th>166</th>\n",
       "      <td>67</td>\n",
       "      <td>1</td>\n",
       "      <td>0</td>\n",
       "      <td>120</td>\n",
       "      <td>229</td>\n",
       "      <td>0</td>\n",
       "      <td>0</td>\n",
       "      <td>129</td>\n",
       "      <td>1</td>\n",
       "      <td>2.6</td>\n",
       "      <td>1</td>\n",
       "      <td>2</td>\n",
       "      <td>3</td>\n",
       "    </tr>\n",
       "  </tbody>\n",
       "</table>\n",
       "</div>"
      ],
      "text/plain": [
       "     age  sex  cp  trtbps  chol  fbs  restecg  thalachh  exng  oldpeak  slp  \\\n",
       "173   58    1   2     132   224    0        0       173     0      3.2    2   \n",
       "261   52    1   0     112   230    0        1       160     0      0.0    2   \n",
       "37    54    1   2     150   232    0        0       165     0      1.6    2   \n",
       "101   59    1   3     178   270    0        0       145     0      4.2    0   \n",
       "166   67    1   0     120   229    0        0       129     1      2.6    1   \n",
       "\n",
       "     caa  thall  \n",
       "173    2      3  \n",
       "261    1      2  \n",
       "37     0      3  \n",
       "101    0      3  \n",
       "166    2      3  "
      ]
     },
     "execution_count": 39,
     "metadata": {},
     "output_type": "execute_result"
    }
   ],
   "source": [
    "X_train.head()"
   ]
  },
  {
   "cell_type": "markdown",
   "metadata": {
    "papermill": {
     "duration": 0.063629,
     "end_time": "2021-06-11T14:48:49.749794",
     "exception": false,
     "start_time": "2021-06-11T14:48:49.686165",
     "status": "completed"
    },
    "tags": []
   },
   "source": [
    "Now we have 3 dataset for modeling"
   ]
  },
  {
   "cell_type": "markdown",
   "metadata": {
    "execution": {
     "iopub.execute_input": "2021-05-24T09:26:43.599844Z",
     "iopub.status.busy": "2021-05-24T09:26:43.599496Z",
     "iopub.status.idle": "2021-05-24T09:26:43.622316Z",
     "shell.execute_reply": "2021-05-24T09:26:43.621237Z",
     "shell.execute_reply.started": "2021-05-24T09:26:43.599816Z"
    },
    "papermill": {
     "duration": 0.064843,
     "end_time": "2021-06-11T14:48:49.877638",
     "exception": false,
     "start_time": "2021-06-11T14:48:49.812795",
     "status": "completed"
    },
    "tags": []
   },
   "source": [
    "# Modeling"
   ]
  },
  {
   "cell_type": "markdown",
   "metadata": {
    "papermill": {
     "duration": 0.063177,
     "end_time": "2021-06-11T14:48:50.004455",
     "exception": false,
     "start_time": "2021-06-11T14:48:49.941278",
     "status": "completed"
    },
    "tags": []
   },
   "source": [
    "Import modeling moduls"
   ]
  },
  {
   "cell_type": "code",
   "execution_count": 40,
   "metadata": {
    "_kg_hide-input": true,
    "execution": {
     "iopub.execute_input": "2021-06-11T14:48:50.135609Z",
     "iopub.status.busy": "2021-06-11T14:48:50.134753Z",
     "iopub.status.idle": "2021-06-11T14:48:51.438378Z",
     "shell.execute_reply": "2021-06-11T14:48:51.437876Z",
     "shell.execute_reply.started": "2021-06-07T14:46:07.705318Z"
    },
    "papermill": {
     "duration": 1.370017,
     "end_time": "2021-06-11T14:48:51.438517",
     "exception": false,
     "start_time": "2021-06-11T14:48:50.068500",
     "status": "completed"
    },
    "tags": []
   },
   "outputs": [
    {
     "data": {
      "text/html": [
       "<style type='text/css'>\n",
       ".datatable table.frame { margin-bottom: 0; }\n",
       ".datatable table.frame thead { border-bottom: none; }\n",
       ".datatable table.frame tr.coltypes td {  color: #FFFFFF;  line-height: 6px;  padding: 0 0.5em;}\n",
       ".datatable .bool    { background: #DDDD99; }\n",
       ".datatable .object  { background: #565656; }\n",
       ".datatable .int     { background: #5D9E5D; }\n",
       ".datatable .float   { background: #4040CC; }\n",
       ".datatable .str     { background: #CC4040; }\n",
       ".datatable .row_index {  background: var(--jp-border-color3);  border-right: 1px solid var(--jp-border-color0);  color: var(--jp-ui-font-color3);  font-size: 9px;}\n",
       ".datatable .frame tr.coltypes .row_index {  background: var(--jp-border-color0);}\n",
       ".datatable th:nth-child(2) { padding-left: 12px; }\n",
       ".datatable .hellipsis {  color: var(--jp-cell-editor-border-color);}\n",
       ".datatable .vellipsis {  background: var(--jp-layout-color0);  color: var(--jp-cell-editor-border-color);}\n",
       ".datatable .na {  color: var(--jp-cell-editor-border-color);  font-size: 80%;}\n",
       ".datatable .footer { font-size: 9px; }\n",
       ".datatable .frame_dimensions {  background: var(--jp-border-color3);  border-top: 1px solid var(--jp-border-color0);  color: var(--jp-ui-font-color3);  display: inline-block;  opacity: 0.6;  padding: 1px 10px 1px 5px;}\n",
       "</style>\n"
      ],
      "text/plain": [
       "<IPython.core.display.HTML object>"
      ]
     },
     "metadata": {},
     "output_type": "display_data"
    }
   ],
   "source": [
    "# models\n",
    "from sklearn.ensemble import (RandomForestClassifier, \n",
    "                              AdaBoostClassifier, \n",
    "                              GradientBoostingClassifier)\n",
    "from sklearn.linear_model import LogisticRegression\n",
    "from sklearn.neighbors import KNeighborsClassifier\n",
    "from sklearn.tree import DecisionTreeClassifier\n",
    "from sklearn.svm import SVC\n",
    "from xgboost import XGBClassifier\n",
    "from lightgbm import LGBMClassifier\n",
    "\n",
    "# metrics\n",
    "from sklearn.metrics import (accuracy_score, precision_score, recall_score, \n",
    "                             f1_score, roc_auc_score, confusion_matrix, \n",
    "                             precision_recall_curve, roc_curve, \n",
    "                             plot_precision_recall_curve, plot_confusion_matrix)\n",
    "\n",
    "# for regular expressions\n",
    "import re "
   ]
  },
  {
   "cell_type": "markdown",
   "metadata": {
    "papermill": {
     "duration": 0.063436,
     "end_time": "2021-06-11T14:48:51.566321",
     "exception": false,
     "start_time": "2021-06-11T14:48:51.502885",
     "status": "completed"
    },
    "tags": []
   },
   "source": [
    "Firstly, let's check which dataset fits more"
   ]
  },
  {
   "cell_type": "code",
   "execution_count": 41,
   "metadata": {
    "_kg_hide-input": true,
    "execution": {
     "iopub.execute_input": "2021-06-11T14:48:51.701625Z",
     "iopub.status.busy": "2021-06-11T14:48:51.696254Z",
     "iopub.status.idle": "2021-06-11T14:48:57.737752Z",
     "shell.execute_reply": "2021-06-11T14:48:57.738210Z",
     "shell.execute_reply.started": "2021-06-07T13:53:14.295225Z"
    },
    "papermill": {
     "duration": 6.10808,
     "end_time": "2021-06-11T14:48:57.738388",
     "exception": false,
     "start_time": "2021-06-11T14:48:51.630308",
     "status": "completed"
    },
    "tags": []
   },
   "outputs": [
    {
     "name": "stdout",
     "output_type": "stream",
     "text": [
      "Algorithm is: RandomForestClassifier\n",
      "Raw data accuracy: 0.824\n",
      "Scaled data accuracy: 0.824\n",
      "Encodered data accuracy: 0.824\n",
      "\n",
      "Algorithm is: GradientBoostingClassifier\n",
      "Raw data accuracy: 0.758\n",
      "Scaled data accuracy: 0.758\n",
      "Encodered data accuracy: 0.78\n",
      "\n",
      "Algorithm is: LogisticRegression\n",
      "Raw data accuracy: 0.828\n",
      "Scaled data accuracy: 0.833\n",
      "Encodered data accuracy: 0.82\n",
      "\n",
      "Algorithm is: KNeighborsClassifier\n",
      "Raw data accuracy: 0.608\n",
      "Scaled data accuracy: 0.802\n",
      "Encodered data accuracy: 0.802\n",
      "\n",
      "Algorithm is: AdaBoostClassifier\n",
      "Raw data accuracy: 0.772\n",
      "Scaled data accuracy: 0.772\n",
      "Encodered data accuracy: 0.767\n",
      "\n",
      "Algorithm is: DecisionTreeClassifier\n",
      "Raw data accuracy: 0.74\n",
      "Scaled data accuracy: 0.754\n",
      "Encodered data accuracy: 0.736\n",
      "\n",
      "Algorithm is: SVC\n",
      "Raw data accuracy: 0.639\n",
      "Scaled data accuracy: 0.82\n",
      "Encodered data accuracy: 0.798\n",
      "\n",
      "Algorithm is: XGBClassifier\n",
      "Raw data accuracy: 0.802\n",
      "Scaled data accuracy: 0.807\n",
      "Encodered data accuracy: 0.797\n",
      "\n",
      "Algorithm is: LGBMClassifier\n",
      "Raw data accuracy: 0.789\n",
      "Scaled data accuracy: 0.789\n",
      "Encodered data accuracy: 0.811\n",
      "\n"
     ]
    }
   ],
   "source": [
    "models = [RandomForestClassifier(), GradientBoostingClassifier(), LogisticRegression(), KNeighborsClassifier(), AdaBoostClassifier(),\n",
    "         DecisionTreeClassifier(), SVC(probability = True), XGBClassifier(eval_metric = 'logloss'), LGBMClassifier()]\n",
    "\n",
    "model_names = []\n",
    "train_data = [X_train, scaled_X_train, encodered_X_train]\n",
    "\n",
    "for mod_name in models:\n",
    "    r = re.findall((r'\\w*'), str(mod_name))\n",
    "    model_names.append(r[0])\n",
    "    \n",
    "for n in range(len(models)):\n",
    "    clf = models[n]\n",
    "    scores = cross_val_score(clf, train_data[0], y_train, cv=5)\n",
    "    print('Algorithm is: %s' %model_names[n])\n",
    "    print('Raw data accuracy:', scores.mean().round(3))\n",
    "    scores = cross_val_score(clf, train_data[1], y_train, cv=5)\n",
    "    print('Scaled data accuracy:', scores.mean().round(3))\n",
    "    scores = cross_val_score(clf, train_data[2], y_train, cv=5)\n",
    "    print('Encodered data accuracy:', scores.mean().round(3))\n",
    "    print()"
   ]
  },
  {
   "cell_type": "markdown",
   "metadata": {
    "papermill": {
     "duration": 0.065661,
     "end_time": "2021-06-11T14:48:57.870826",
     "exception": false,
     "start_time": "2021-06-11T14:48:57.805165",
     "status": "completed"
    },
    "tags": []
   },
   "source": [
    "KNN and SVC - sensitive for preparing data but in other cases deference is not significant. I prefer use scaled data"
   ]
  },
  {
   "cell_type": "code",
   "execution_count": 42,
   "metadata": {
    "execution": {
     "iopub.execute_input": "2021-06-11T14:48:58.011791Z",
     "iopub.status.busy": "2021-06-11T14:48:58.011173Z",
     "iopub.status.idle": "2021-06-11T14:48:58.013830Z",
     "shell.execute_reply": "2021-06-11T14:48:58.013407Z",
     "shell.execute_reply.started": "2021-06-07T13:54:36.708718Z"
    },
    "papermill": {
     "duration": 0.077037,
     "end_time": "2021-06-11T14:48:58.013957",
     "exception": false,
     "start_time": "2021-06-11T14:48:57.936920",
     "status": "completed"
    },
    "tags": []
   },
   "outputs": [],
   "source": [
    "def cross_valid_scores(models_array, X_tr, y_tr):\n",
    "    \n",
    "    accuracy = []\n",
    "    precision = []\n",
    "    recall = []\n",
    "    f1 = []\n",
    "    auc = []\n",
    "        \n",
    "    scoring = ['precision_macro', 'recall_macro', 'f1_macro', 'accuracy', 'roc_auc']\n",
    "\n",
    "    for n in models:\n",
    "        clf = n\n",
    "        scores = cross_validate(clf, X_tr, y_tr, cv=5, scoring=scoring)\n",
    "\n",
    "        acc_mean = scores['test_accuracy'].mean().round(3)\n",
    "        prec_mean = scores['test_precision_macro'].mean().round(3)\n",
    "        rec_mean = scores['test_recall_macro'].mean().round(3)\n",
    "        f1_mean = scores['test_f1_macro'].mean().round(3)\n",
    "        roc_mean = scores['test_roc_auc'].mean().round(3)\n",
    "\n",
    "        accuracy.append(acc_mean*100)\n",
    "        precision.append(prec_mean*100)\n",
    "        recall.append(rec_mean*100)\n",
    "        f1.append(f1_mean*100)\n",
    "        auc.append(roc_mean*100)\n",
    "        \n",
    "    results_df = pd.DataFrame({\"Accuracy Score\":accuracy,\"Precision Score\":precision,\n",
    "                        \"Recall Score\":recall, \"f1 Score\":f1,\"AUC Score\":auc,\n",
    "                        \"Algorithm\": model_names})\n",
    "    \n",
    "    results_df = (results_df.sort_values(by = 'AUC Score', ascending = False)\n",
    "                  .reset_index(drop =  True))\n",
    "    \n",
    "    return results_df"
   ]
  },
  {
   "cell_type": "code",
   "execution_count": 43,
   "metadata": {
    "execution": {
     "iopub.execute_input": "2021-06-11T14:48:58.157820Z",
     "iopub.status.busy": "2021-06-11T14:48:58.156949Z",
     "iopub.status.idle": "2021-06-11T14:48:58.159559Z",
     "shell.execute_reply": "2021-06-11T14:48:58.159147Z",
     "shell.execute_reply.started": "2021-06-07T14:55:30.511245Z"
    },
    "papermill": {
     "duration": 0.078833,
     "end_time": "2021-06-11T14:48:58.159685",
     "exception": false,
     "start_time": "2021-06-11T14:48:58.080852",
     "status": "completed"
    },
    "tags": []
   },
   "outputs": [],
   "source": [
    "scaled_X_test = X_test.copy()\n",
    "X_test_scaled = scaler.transform(scaled_X_test[array])\n",
    "normalize_results = pd.DataFrame(X_test_scaled, index=scaled_X_test.index, columns=array)\n",
    "scaled_X_test.drop(array, axis=1, inplace=True)\n",
    "scaled_X_test = scaled_X_test.join(normalize_results)"
   ]
  },
  {
   "cell_type": "markdown",
   "metadata": {
    "papermill": {
     "duration": 0.068158,
     "end_time": "2021-06-11T14:48:58.294819",
     "exception": false,
     "start_time": "2021-06-11T14:48:58.226661",
     "status": "completed"
    },
    "tags": []
   },
   "source": [
    "Normalized test set"
   ]
  },
  {
   "cell_type": "code",
   "execution_count": 44,
   "metadata": {
    "execution": {
     "iopub.execute_input": "2021-06-11T14:48:58.431348Z",
     "iopub.status.busy": "2021-06-11T14:48:58.430841Z",
     "iopub.status.idle": "2021-06-11T14:48:58.443539Z",
     "shell.execute_reply": "2021-06-11T14:48:58.443997Z",
     "shell.execute_reply.started": "2021-06-07T14:55:33.96896Z"
    },
    "papermill": {
     "duration": 0.082311,
     "end_time": "2021-06-11T14:48:58.444148",
     "exception": false,
     "start_time": "2021-06-11T14:48:58.361837",
     "status": "completed"
    },
    "tags": []
   },
   "outputs": [
    {
     "data": {
      "text/html": [
       "<div>\n",
       "<style scoped>\n",
       "    .dataframe tbody tr th:only-of-type {\n",
       "        vertical-align: middle;\n",
       "    }\n",
       "\n",
       "    .dataframe tbody tr th {\n",
       "        vertical-align: top;\n",
       "    }\n",
       "\n",
       "    .dataframe thead th {\n",
       "        text-align: right;\n",
       "    }\n",
       "</style>\n",
       "<table border=\"1\" class=\"dataframe\">\n",
       "  <thead>\n",
       "    <tr style=\"text-align: right;\">\n",
       "      <th></th>\n",
       "      <th>sex</th>\n",
       "      <th>cp</th>\n",
       "      <th>fbs</th>\n",
       "      <th>restecg</th>\n",
       "      <th>exng</th>\n",
       "      <th>oldpeak</th>\n",
       "      <th>slp</th>\n",
       "      <th>caa</th>\n",
       "      <th>thall</th>\n",
       "      <th>age</th>\n",
       "      <th>trtbps</th>\n",
       "      <th>chol</th>\n",
       "      <th>thalachh</th>\n",
       "    </tr>\n",
       "  </thead>\n",
       "  <tbody>\n",
       "    <tr>\n",
       "      <th>225</th>\n",
       "      <td>1</td>\n",
       "      <td>0</td>\n",
       "      <td>0</td>\n",
       "      <td>1</td>\n",
       "      <td>1</td>\n",
       "      <td>2.6</td>\n",
       "      <td>0</td>\n",
       "      <td>0</td>\n",
       "      <td>3</td>\n",
       "      <td>1.679068</td>\n",
       "      <td>0.774976</td>\n",
       "      <td>-1.357433</td>\n",
       "      <td>-1.049349</td>\n",
       "    </tr>\n",
       "    <tr>\n",
       "      <th>152</th>\n",
       "      <td>1</td>\n",
       "      <td>3</td>\n",
       "      <td>0</td>\n",
       "      <td>0</td>\n",
       "      <td>0</td>\n",
       "      <td>0.6</td>\n",
       "      <td>1</td>\n",
       "      <td>0</td>\n",
       "      <td>3</td>\n",
       "      <td>1.015817</td>\n",
       "      <td>2.226458</td>\n",
       "      <td>-0.380682</td>\n",
       "      <td>0.238927</td>\n",
       "    </tr>\n",
       "    <tr>\n",
       "      <th>228</th>\n",
       "      <td>1</td>\n",
       "      <td>3</td>\n",
       "      <td>0</td>\n",
       "      <td>0</td>\n",
       "      <td>0</td>\n",
       "      <td>0.2</td>\n",
       "      <td>1</td>\n",
       "      <td>0</td>\n",
       "      <td>3</td>\n",
       "      <td>0.463107</td>\n",
       "      <td>2.226458</td>\n",
       "      <td>0.743503</td>\n",
       "      <td>0.410697</td>\n",
       "    </tr>\n",
       "    <tr>\n",
       "      <th>201</th>\n",
       "      <td>1</td>\n",
       "      <td>0</td>\n",
       "      <td>0</td>\n",
       "      <td>0</td>\n",
       "      <td>1</td>\n",
       "      <td>2.8</td>\n",
       "      <td>1</td>\n",
       "      <td>1</td>\n",
       "      <td>3</td>\n",
       "      <td>0.573649</td>\n",
       "      <td>-0.386209</td>\n",
       "      <td>0.190625</td>\n",
       "      <td>-0.362269</td>\n",
       "    </tr>\n",
       "    <tr>\n",
       "      <th>52</th>\n",
       "      <td>1</td>\n",
       "      <td>2</td>\n",
       "      <td>0</td>\n",
       "      <td>1</td>\n",
       "      <td>0</td>\n",
       "      <td>1.8</td>\n",
       "      <td>1</td>\n",
       "      <td>3</td>\n",
       "      <td>3</td>\n",
       "      <td>0.794733</td>\n",
       "      <td>-0.095913</td>\n",
       "      <td>-0.306965</td>\n",
       "      <td>-0.147556</td>\n",
       "    </tr>\n",
       "  </tbody>\n",
       "</table>\n",
       "</div>"
      ],
      "text/plain": [
       "     sex  cp  fbs  restecg  exng  oldpeak  slp  caa  thall       age  \\\n",
       "225    1   0    0        1     1      2.6    0    0      3  1.679068   \n",
       "152    1   3    0        0     0      0.6    1    0      3  1.015817   \n",
       "228    1   3    0        0     0      0.2    1    0      3  0.463107   \n",
       "201    1   0    0        0     1      2.8    1    1      3  0.573649   \n",
       "52     1   2    0        1     0      1.8    1    3      3  0.794733   \n",
       "\n",
       "       trtbps      chol  thalachh  \n",
       "225  0.774976 -1.357433 -1.049349  \n",
       "152  2.226458 -0.380682  0.238927  \n",
       "228  2.226458  0.743503  0.410697  \n",
       "201 -0.386209  0.190625 -0.362269  \n",
       "52  -0.095913 -0.306965 -0.147556  "
      ]
     },
     "execution_count": 44,
     "metadata": {},
     "output_type": "execute_result"
    }
   ],
   "source": [
    "scaled_X_test.head()"
   ]
  },
  {
   "cell_type": "code",
   "execution_count": 45,
   "metadata": {
    "execution": {
     "iopub.execute_input": "2021-06-11T14:48:58.582084Z",
     "iopub.status.busy": "2021-06-11T14:48:58.581449Z",
     "iopub.status.idle": "2021-06-11T14:49:00.998665Z",
     "shell.execute_reply": "2021-06-11T14:49:00.998201Z",
     "shell.execute_reply.started": "2021-06-07T13:54:48.378363Z"
    },
    "papermill": {
     "duration": 2.487509,
     "end_time": "2021-06-11T14:49:00.998816",
     "exception": false,
     "start_time": "2021-06-11T14:48:58.511307",
     "status": "completed"
    },
    "tags": []
   },
   "outputs": [
    {
     "data": {
      "text/html": [
       "<div>\n",
       "<style scoped>\n",
       "    .dataframe tbody tr th:only-of-type {\n",
       "        vertical-align: middle;\n",
       "    }\n",
       "\n",
       "    .dataframe tbody tr th {\n",
       "        vertical-align: top;\n",
       "    }\n",
       "\n",
       "    .dataframe thead th {\n",
       "        text-align: right;\n",
       "    }\n",
       "</style>\n",
       "<table border=\"1\" class=\"dataframe\">\n",
       "  <thead>\n",
       "    <tr style=\"text-align: right;\">\n",
       "      <th></th>\n",
       "      <th>Accuracy Score</th>\n",
       "      <th>Precision Score</th>\n",
       "      <th>Recall Score</th>\n",
       "      <th>f1 Score</th>\n",
       "      <th>AUC Score</th>\n",
       "      <th>Algorithm</th>\n",
       "    </tr>\n",
       "  </thead>\n",
       "  <tbody>\n",
       "    <tr>\n",
       "      <th>0</th>\n",
       "      <td>83.3</td>\n",
       "      <td>84.2</td>\n",
       "      <td>82.8</td>\n",
       "      <td>82.9</td>\n",
       "      <td>90.2</td>\n",
       "      <td>LogisticRegression</td>\n",
       "    </tr>\n",
       "    <tr>\n",
       "      <th>1</th>\n",
       "      <td>82.9</td>\n",
       "      <td>83.0</td>\n",
       "      <td>82.6</td>\n",
       "      <td>82.6</td>\n",
       "      <td>89.5</td>\n",
       "      <td>RandomForestClassifier</td>\n",
       "    </tr>\n",
       "    <tr>\n",
       "      <th>2</th>\n",
       "      <td>82.0</td>\n",
       "      <td>84.2</td>\n",
       "      <td>81.1</td>\n",
       "      <td>81.3</td>\n",
       "      <td>89.1</td>\n",
       "      <td>SVC</td>\n",
       "    </tr>\n",
       "    <tr>\n",
       "      <th>3</th>\n",
       "      <td>80.7</td>\n",
       "      <td>80.8</td>\n",
       "      <td>80.4</td>\n",
       "      <td>80.5</td>\n",
       "      <td>87.1</td>\n",
       "      <td>XGBClassifier</td>\n",
       "    </tr>\n",
       "    <tr>\n",
       "      <th>4</th>\n",
       "      <td>78.9</td>\n",
       "      <td>79.4</td>\n",
       "      <td>78.6</td>\n",
       "      <td>78.6</td>\n",
       "      <td>86.7</td>\n",
       "      <td>LGBMClassifier</td>\n",
       "    </tr>\n",
       "    <tr>\n",
       "      <th>5</th>\n",
       "      <td>75.8</td>\n",
       "      <td>76.1</td>\n",
       "      <td>75.6</td>\n",
       "      <td>75.6</td>\n",
       "      <td>85.9</td>\n",
       "      <td>GradientBoostingClassifier</td>\n",
       "    </tr>\n",
       "    <tr>\n",
       "      <th>6</th>\n",
       "      <td>77.2</td>\n",
       "      <td>77.6</td>\n",
       "      <td>76.9</td>\n",
       "      <td>76.9</td>\n",
       "      <td>84.1</td>\n",
       "      <td>AdaBoostClassifier</td>\n",
       "    </tr>\n",
       "    <tr>\n",
       "      <th>7</th>\n",
       "      <td>80.2</td>\n",
       "      <td>81.2</td>\n",
       "      <td>79.6</td>\n",
       "      <td>79.6</td>\n",
       "      <td>84.0</td>\n",
       "      <td>KNeighborsClassifier</td>\n",
       "    </tr>\n",
       "    <tr>\n",
       "      <th>8</th>\n",
       "      <td>74.5</td>\n",
       "      <td>74.6</td>\n",
       "      <td>74.5</td>\n",
       "      <td>74.4</td>\n",
       "      <td>74.5</td>\n",
       "      <td>DecisionTreeClassifier</td>\n",
       "    </tr>\n",
       "  </tbody>\n",
       "</table>\n",
       "</div>"
      ],
      "text/plain": [
       "   Accuracy Score  Precision Score  Recall Score  f1 Score  AUC Score  \\\n",
       "0            83.3             84.2          82.8      82.9       90.2   \n",
       "1            82.9             83.0          82.6      82.6       89.5   \n",
       "2            82.0             84.2          81.1      81.3       89.1   \n",
       "3            80.7             80.8          80.4      80.5       87.1   \n",
       "4            78.9             79.4          78.6      78.6       86.7   \n",
       "5            75.8             76.1          75.6      75.6       85.9   \n",
       "6            77.2             77.6          76.9      76.9       84.1   \n",
       "7            80.2             81.2          79.6      79.6       84.0   \n",
       "8            74.5             74.6          74.5      74.4       74.5   \n",
       "\n",
       "                    Algorithm  \n",
       "0          LogisticRegression  \n",
       "1      RandomForestClassifier  \n",
       "2                         SVC  \n",
       "3               XGBClassifier  \n",
       "4              LGBMClassifier  \n",
       "5  GradientBoostingClassifier  \n",
       "6          AdaBoostClassifier  \n",
       "7        KNeighborsClassifier  \n",
       "8      DecisionTreeClassifier  "
      ]
     },
     "execution_count": 45,
     "metadata": {},
     "output_type": "execute_result"
    }
   ],
   "source": [
    "cross_valid_scores(models, scaled_X_train, y_train)"
   ]
  },
  {
   "cell_type": "markdown",
   "metadata": {
    "papermill": {
     "duration": 0.067461,
     "end_time": "2021-06-11T14:49:01.135057",
     "exception": false,
     "start_time": "2021-06-11T14:49:01.067596",
     "status": "completed"
    },
    "tags": []
   },
   "source": [
    "I will maximaze \"Recall score\" because in my opinion, we don't have to miss positvite class (heart risk). Below I'll use Logistic Regression for final model. "
   ]
  },
  {
   "cell_type": "markdown",
   "metadata": {
    "papermill": {
     "duration": 0.067483,
     "end_time": "2021-06-11T14:49:01.271016",
     "exception": false,
     "start_time": "2021-06-11T14:49:01.203533",
     "status": "completed"
    },
    "tags": []
   },
   "source": [
    "# Logistic Regression tune with Grid Search"
   ]
  },
  {
   "cell_type": "code",
   "execution_count": 46,
   "metadata": {
    "execution": {
     "iopub.execute_input": "2021-06-11T14:49:01.414882Z",
     "iopub.status.busy": "2021-06-11T14:49:01.411766Z",
     "iopub.status.idle": "2021-06-11T14:49:05.172126Z",
     "shell.execute_reply": "2021-06-11T14:49:05.171583Z",
     "shell.execute_reply.started": "2021-06-07T14:56:06.8309Z"
    },
    "papermill": {
     "duration": 3.833643,
     "end_time": "2021-06-11T14:49:05.172249",
     "exception": false,
     "start_time": "2021-06-11T14:49:01.338606",
     "status": "completed"
    },
    "tags": []
   },
   "outputs": [
    {
     "data": {
      "text/plain": [
       "GridSearchCV(cv=5, estimator=LogisticRegression(),\n",
       "             param_grid={'C': array([1.00000e-05, 1.00010e-01, 2.00010e-01, 3.00010e-01, 4.00010e-01,\n",
       "       5.00010e-01, 6.00010e-01, 7.00010e-01, 8.00010e-01, 9.00010e-01,\n",
       "       1.00001e+00, 1.10001e+00, 1.20001e+00, 1.30001e+00, 1.40001e+00,\n",
       "       1.50001e+00, 1.60001e+00, 1.70001e+00, 1.80001e+00, 1.90001e+00,\n",
       "       2.00001e+00, 2.10001e+00, 2.20001e+00, 2.30001e+00, 2.40001e+00,\n",
       "       2.50001e+00, 2.60001e+00, 2.70001e+00, 2.80001e+00, 2.90001e+00])},\n",
       "             refit='Log_loss', return_train_score=True,\n",
       "             scoring={'AUC': 'roc_auc', 'Accuracy': 'accuracy',\n",
       "                      'Log_loss': 'neg_log_loss', 'Recall': 'recall'})"
      ]
     },
     "execution_count": 46,
     "metadata": {},
     "output_type": "execute_result"
    }
   ],
   "source": [
    "param_grid = {'C': np.arange(1e-05, 3, 0.1)}\n",
    "scoring = {'Accuracy': 'accuracy', 'AUC': 'roc_auc', 'Log_loss': 'neg_log_loss', 'Recall': 'recall'}\n",
    "\n",
    "grid_log_reg = GridSearchCV(LogisticRegression(), return_train_score=True,\n",
    "                  param_grid=param_grid, scoring=scoring, cv=5, refit='Log_loss')\n",
    "\n",
    "grid_log_reg.fit(scaled_X_train, y_train)"
   ]
  },
  {
   "cell_type": "code",
   "execution_count": 47,
   "metadata": {
    "_kg_hide-output": true,
    "collapsed": true,
    "execution": {
     "iopub.execute_input": "2021-06-11T14:49:05.338677Z",
     "iopub.status.busy": "2021-06-11T14:49:05.337933Z",
     "iopub.status.idle": "2021-06-11T14:49:05.342227Z",
     "shell.execute_reply": "2021-06-11T14:49:05.341798Z",
     "shell.execute_reply.started": "2021-06-02T08:05:36.796514Z"
    },
    "jupyter": {
     "outputs_hidden": true
    },
    "papermill": {
     "duration": 0.101882,
     "end_time": "2021-06-11T14:49:05.342346",
     "exception": false,
     "start_time": "2021-06-11T14:49:05.240464",
     "status": "completed"
    },
    "tags": []
   },
   "outputs": [
    {
     "data": {
      "text/plain": [
       "{'mean_fit_time': array([0.00586371, 0.00715294, 0.0074162 , 0.00812993, 0.00827107,\n",
       "        0.00885091, 0.00847859, 0.00871511, 0.00852594, 0.00856514,\n",
       "        0.00856719, 0.00883107, 0.0088285 , 0.00872421, 0.00899153,\n",
       "        0.0093019 , 0.00907235, 0.00897293, 0.00917993, 0.00916166,\n",
       "        0.00932021, 0.00938721, 0.00919294, 0.00913792, 0.00926261,\n",
       "        0.00971437, 0.00953355, 0.00938215, 0.00927553, 0.00949731]),\n",
       " 'std_fit_time': array([0.00042464, 0.00017094, 0.00028681, 0.00010615, 0.00054218,\n",
       "        0.00076609, 0.00044389, 0.00057943, 0.00036761, 0.000249  ,\n",
       "        0.00039087, 0.00048385, 0.00035953, 0.00033077, 0.00044128,\n",
       "        0.00050604, 0.00017214, 0.0001349 , 0.00028581, 0.00038614,\n",
       "        0.00073846, 0.00070154, 0.00013624, 0.00015325, 0.00023469,\n",
       "        0.00129469, 0.00027636, 0.00037658, 0.00052017, 0.00041986]),\n",
       " 'mean_score_time': array([0.00764809, 0.00780578, 0.00760374, 0.00781665, 0.00803981,\n",
       "        0.00808024, 0.00794501, 0.00786433, 0.00787892, 0.00792994,\n",
       "        0.00789289, 0.00784726, 0.00790381, 0.0078783 , 0.0078033 ,\n",
       "        0.00792842, 0.0079525 , 0.00788217, 0.00800672, 0.00801573,\n",
       "        0.00824146, 0.00819917, 0.00799146, 0.00814853, 0.00793519,\n",
       "        0.008004  , 0.008078  , 0.0079443 , 0.00783997, 0.00798383]),\n",
       " 'std_score_time': array([2.01581272e-04, 1.72467023e-04, 8.51022219e-05, 1.43605557e-04,\n",
       "        2.06419143e-04, 2.87342720e-04, 8.58311388e-05, 1.08068028e-04,\n",
       "        7.86010191e-05, 3.70808270e-05, 4.32629285e-05, 1.60021421e-04,\n",
       "        7.24652867e-05, 7.54532088e-05, 2.21792622e-04, 7.63669856e-05,\n",
       "        1.08750907e-04, 8.84897743e-05, 1.06957519e-04, 1.16056777e-04,\n",
       "        2.29824994e-04, 2.61472185e-04, 8.36331596e-05, 1.94025128e-04,\n",
       "        1.34880165e-04, 2.53068464e-04, 5.39531499e-05, 1.97962517e-04,\n",
       "        1.86805142e-04, 2.36294324e-04]),\n",
       " 'param_C': masked_array(data=[1e-05, 0.10001, 0.20001000000000002,\n",
       "                    0.30001000000000005, 0.40001000000000003, 0.50001,\n",
       "                    0.60001, 0.70001, 0.80001, 0.90001, 1.00001,\n",
       "                    1.1000100000000002, 1.2000100000000002, 1.30001,\n",
       "                    1.4000100000000002, 1.50001, 1.6000100000000002,\n",
       "                    1.7000100000000002, 1.80001, 1.9000100000000002,\n",
       "                    2.00001, 2.10001, 2.2000100000000002,\n",
       "                    2.3000100000000003, 2.4000100000000004, 2.50001,\n",
       "                    2.60001, 2.7000100000000002, 2.8000100000000003,\n",
       "                    2.9000100000000004],\n",
       "              mask=[False, False, False, False, False, False, False, False,\n",
       "                    False, False, False, False, False, False, False, False,\n",
       "                    False, False, False, False, False, False, False, False,\n",
       "                    False, False, False, False, False, False],\n",
       "        fill_value='?',\n",
       "             dtype=object),\n",
       " 'params': [{'C': 1e-05},\n",
       "  {'C': 0.10001},\n",
       "  {'C': 0.20001000000000002},\n",
       "  {'C': 0.30001000000000005},\n",
       "  {'C': 0.40001000000000003},\n",
       "  {'C': 0.50001},\n",
       "  {'C': 0.60001},\n",
       "  {'C': 0.70001},\n",
       "  {'C': 0.80001},\n",
       "  {'C': 0.90001},\n",
       "  {'C': 1.00001},\n",
       "  {'C': 1.1000100000000002},\n",
       "  {'C': 1.2000100000000002},\n",
       "  {'C': 1.30001},\n",
       "  {'C': 1.4000100000000002},\n",
       "  {'C': 1.50001},\n",
       "  {'C': 1.6000100000000002},\n",
       "  {'C': 1.7000100000000002},\n",
       "  {'C': 1.80001},\n",
       "  {'C': 1.9000100000000002},\n",
       "  {'C': 2.00001},\n",
       "  {'C': 2.10001},\n",
       "  {'C': 2.2000100000000002},\n",
       "  {'C': 2.3000100000000003},\n",
       "  {'C': 2.4000100000000004},\n",
       "  {'C': 2.50001},\n",
       "  {'C': 2.60001},\n",
       "  {'C': 2.7000100000000002},\n",
       "  {'C': 2.8000100000000003},\n",
       "  {'C': 2.9000100000000004}],\n",
       " 'split0_test_Accuracy': array([0.54347826, 0.7826087 , 0.7826087 , 0.7826087 , 0.7826087 ,\n",
       "        0.7826087 , 0.7826087 , 0.7826087 , 0.80434783, 0.82608696,\n",
       "        0.80434783, 0.80434783, 0.80434783, 0.80434783, 0.80434783,\n",
       "        0.7826087 , 0.7826087 , 0.7826087 , 0.7826087 , 0.7826087 ,\n",
       "        0.7826087 , 0.7826087 , 0.7826087 , 0.7826087 , 0.7826087 ,\n",
       "        0.7826087 , 0.7826087 , 0.76086957, 0.76086957, 0.76086957]),\n",
       " 'split1_test_Accuracy': array([0.54347826, 0.80434783, 0.80434783, 0.80434783, 0.7826087 ,\n",
       "        0.80434783, 0.80434783, 0.80434783, 0.80434783, 0.80434783,\n",
       "        0.80434783, 0.7826087 , 0.7826087 , 0.7826087 , 0.80434783,\n",
       "        0.80434783, 0.80434783, 0.80434783, 0.80434783, 0.80434783,\n",
       "        0.80434783, 0.80434783, 0.80434783, 0.80434783, 0.80434783,\n",
       "        0.80434783, 0.80434783, 0.80434783, 0.80434783, 0.80434783]),\n",
       " 'split2_test_Accuracy': array([0.53333333, 0.88888889, 0.88888889, 0.88888889, 0.88888889,\n",
       "        0.88888889, 0.88888889, 0.88888889, 0.88888889, 0.88888889,\n",
       "        0.88888889, 0.88888889, 0.88888889, 0.88888889, 0.88888889,\n",
       "        0.88888889, 0.88888889, 0.88888889, 0.88888889, 0.88888889,\n",
       "        0.88888889, 0.88888889, 0.88888889, 0.88888889, 0.88888889,\n",
       "        0.86666667, 0.86666667, 0.86666667, 0.86666667, 0.86666667]),\n",
       " 'split3_test_Accuracy': array([0.53333333, 0.84444444, 0.8       , 0.82222222, 0.82222222,\n",
       "        0.82222222, 0.82222222, 0.82222222, 0.82222222, 0.82222222,\n",
       "        0.82222222, 0.82222222, 0.82222222, 0.82222222, 0.82222222,\n",
       "        0.82222222, 0.82222222, 0.82222222, 0.82222222, 0.82222222,\n",
       "        0.82222222, 0.82222222, 0.82222222, 0.82222222, 0.82222222,\n",
       "        0.82222222, 0.82222222, 0.82222222, 0.82222222, 0.82222222]),\n",
       " 'split4_test_Accuracy': array([0.53333333, 0.84444444, 0.84444444, 0.86666667, 0.86666667,\n",
       "        0.84444444, 0.84444444, 0.84444444, 0.84444444, 0.84444444,\n",
       "        0.84444444, 0.84444444, 0.84444444, 0.84444444, 0.84444444,\n",
       "        0.84444444, 0.84444444, 0.84444444, 0.84444444, 0.84444444,\n",
       "        0.84444444, 0.84444444, 0.84444444, 0.84444444, 0.84444444,\n",
       "        0.84444444, 0.84444444, 0.84444444, 0.84444444, 0.84444444]),\n",
       " 'mean_test_Accuracy': array([0.5373913 , 0.83294686, 0.82405797, 0.83294686, 0.82859903,\n",
       "        0.82850242, 0.82850242, 0.82850242, 0.83285024, 0.83719807,\n",
       "        0.83285024, 0.82850242, 0.82850242, 0.82850242, 0.83285024,\n",
       "        0.82850242, 0.82850242, 0.82850242, 0.82850242, 0.82850242,\n",
       "        0.82850242, 0.82850242, 0.82850242, 0.82850242, 0.82850242,\n",
       "        0.82405797, 0.82405797, 0.81971014, 0.81971014, 0.81971014]),\n",
       " 'std_test_Accuracy': array([0.00496998, 0.03673074, 0.03822035, 0.03932783, 0.04325482,\n",
       "        0.03641371, 0.03641371, 0.03641371, 0.03166224, 0.02881431,\n",
       "        0.03166224, 0.03641371, 0.03641371, 0.03641371, 0.03166224,\n",
       "        0.03641371, 0.03641371, 0.03641371, 0.03641371, 0.03641371,\n",
       "        0.03641371, 0.03641371, 0.03641371, 0.03641371, 0.03641371,\n",
       "        0.02946527, 0.02946527, 0.03611433, 0.03611433, 0.03611433]),\n",
       " 'rank_test_Accuracy': array([30,  2, 24,  2,  7,  8,  8,  8,  4,  1,  4,  8,  8,  8,  4,  8,  8,\n",
       "         8,  8,  8,  8,  8,  8,  8,  8, 24, 24, 27, 27, 27], dtype=int32),\n",
       " 'split0_train_Accuracy': array([0.5359116 , 0.87292818, 0.86740331, 0.86740331, 0.86740331,\n",
       "        0.87292818, 0.87845304, 0.87292818, 0.87292818, 0.87845304,\n",
       "        0.87845304, 0.87845304, 0.87845304, 0.87845304, 0.87845304,\n",
       "        0.87845304, 0.87845304, 0.87845304, 0.87845304, 0.87845304,\n",
       "        0.87292818, 0.87292818, 0.87292818, 0.87292818, 0.87292818,\n",
       "        0.87292818, 0.87292818, 0.87292818, 0.87292818, 0.87292818]),\n",
       " 'split1_train_Accuracy': array([0.5359116 , 0.85082873, 0.85082873, 0.85082873, 0.85082873,\n",
       "        0.85082873, 0.85082873, 0.85082873, 0.85635359, 0.85635359,\n",
       "        0.85635359, 0.85635359, 0.85635359, 0.85635359, 0.85635359,\n",
       "        0.85635359, 0.85635359, 0.85635359, 0.85635359, 0.85635359,\n",
       "        0.85635359, 0.85635359, 0.85635359, 0.85635359, 0.85635359,\n",
       "        0.85635359, 0.85635359, 0.85635359, 0.85635359, 0.85635359]),\n",
       " 'split2_train_Accuracy': array([0.53846154, 0.83516484, 0.84065934, 0.83516484, 0.83516484,\n",
       "        0.83516484, 0.84065934, 0.83516484, 0.82967033, 0.82967033,\n",
       "        0.82417582, 0.82417582, 0.82417582, 0.82417582, 0.82417582,\n",
       "        0.82417582, 0.82417582, 0.82417582, 0.82417582, 0.82417582,\n",
       "        0.82417582, 0.82417582, 0.82417582, 0.82417582, 0.82417582,\n",
       "        0.82417582, 0.82417582, 0.82417582, 0.82417582, 0.82417582]),\n",
       " 'split3_train_Accuracy': array([0.53846154, 0.84615385, 0.85164835, 0.85164835, 0.85164835,\n",
       "        0.85164835, 0.85164835, 0.84615385, 0.84615385, 0.84615385,\n",
       "        0.84615385, 0.84615385, 0.84615385, 0.84615385, 0.84615385,\n",
       "        0.84615385, 0.84615385, 0.84615385, 0.84615385, 0.84615385,\n",
       "        0.84615385, 0.84615385, 0.84615385, 0.84615385, 0.84615385,\n",
       "        0.84615385, 0.84615385, 0.84615385, 0.84615385, 0.84615385]),\n",
       " 'split4_train_Accuracy': array([0.53846154, 0.84065934, 0.85164835, 0.84615385, 0.84615385,\n",
       "        0.84615385, 0.84615385, 0.84065934, 0.84065934, 0.84065934,\n",
       "        0.84615385, 0.84615385, 0.84615385, 0.84615385, 0.84615385,\n",
       "        0.84615385, 0.84615385, 0.84615385, 0.84615385, 0.84615385,\n",
       "        0.84615385, 0.84615385, 0.84615385, 0.84065934, 0.84065934,\n",
       "        0.84065934, 0.84065934, 0.84065934, 0.84065934, 0.84065934]),\n",
       " 'mean_train_Accuracy': array([0.53744156, 0.84914699, 0.85243762, 0.85023982, 0.85023982,\n",
       "        0.85134479, 0.85354866, 0.84914699, 0.84915306, 0.85025803,\n",
       "        0.85025803, 0.85025803, 0.85025803, 0.85025803, 0.85025803,\n",
       "        0.85025803, 0.85025803, 0.85025803, 0.85025803, 0.85025803,\n",
       "        0.84915306, 0.84915306, 0.84915306, 0.84805416, 0.84805416,\n",
       "        0.84805416, 0.84805416, 0.84805416, 0.84805416, 0.84805416]),\n",
       " 'std_train_Accuracy': array([0.00124921, 0.01299902, 0.00856194, 0.01040064, 0.01040064,\n",
       "        0.0122877 , 0.01305416, 0.01299902, 0.01468209, 0.01652239,\n",
       "        0.01758456, 0.01758456, 0.01758456, 0.01758456, 0.01758456,\n",
       "        0.01758456, 0.01758456, 0.01758456, 0.01758456, 0.01758456,\n",
       "        0.01586793, 0.01586793, 0.01586793, 0.01622385, 0.01622385,\n",
       "        0.01622385, 0.01622385, 0.01622385, 0.01622385, 0.01622385]),\n",
       " 'split0_test_AUC': array([0.83238095, 0.83238095, 0.83238095, 0.83047619, 0.83047619,\n",
       "        0.82857143, 0.82857143, 0.82857143, 0.82666667, 0.82857143,\n",
       "        0.82857143, 0.82666667, 0.8247619 , 0.8247619 , 0.8247619 ,\n",
       "        0.82285714, 0.82285714, 0.8247619 , 0.8247619 , 0.8247619 ,\n",
       "        0.8247619 , 0.8247619 , 0.8247619 , 0.8247619 , 0.8247619 ,\n",
       "        0.8247619 , 0.8247619 , 0.8247619 , 0.8247619 , 0.8247619 ]),\n",
       " 'split1_test_AUC': array([0.83238095, 0.87809524, 0.88571429, 0.88380952, 0.88952381,\n",
       "        0.88761905, 0.88571429, 0.88952381, 0.88952381, 0.88952381,\n",
       "        0.89333333, 0.88952381, 0.88952381, 0.88761905, 0.88761905,\n",
       "        0.88761905, 0.88761905, 0.88761905, 0.88761905, 0.88761905,\n",
       "        0.88761905, 0.88761905, 0.88761905, 0.88761905, 0.88761905,\n",
       "        0.88761905, 0.88761905, 0.88761905, 0.88761905, 0.88761905]),\n",
       " 'split2_test_AUC': array([0.90277778, 0.9047619 , 0.91269841, 0.90873016, 0.91071429,\n",
       "        0.91071429, 0.91269841, 0.91666667, 0.91865079, 0.91666667,\n",
       "        0.91666667, 0.92063492, 0.92261905, 0.92261905, 0.92261905,\n",
       "        0.92261905, 0.92261905, 0.92261905, 0.92261905, 0.92261905,\n",
       "        0.92261905, 0.92261905, 0.92261905, 0.92261905, 0.92261905,\n",
       "        0.92261905, 0.92261905, 0.92261905, 0.92261905, 0.92261905]),\n",
       " 'split3_test_AUC': array([0.90873016, 0.92063492, 0.9265873 , 0.93055556, 0.93452381,\n",
       "        0.93650794, 0.93650794, 0.93452381, 0.93452381, 0.93452381,\n",
       "        0.93650794, 0.93650794, 0.93849206, 0.93849206, 0.93849206,\n",
       "        0.93849206, 0.93849206, 0.93849206, 0.93849206, 0.93849206,\n",
       "        0.93849206, 0.93849206, 0.93849206, 0.93849206, 0.93849206,\n",
       "        0.93849206, 0.93849206, 0.93849206, 0.94047619, 0.94047619]),\n",
       " 'split4_test_AUC': array([0.90674603, 0.91468254, 0.9265873 , 0.93253968, 0.93452381,\n",
       "        0.93452381, 0.93650794, 0.93650794, 0.93650794, 0.93650794,\n",
       "        0.93452381, 0.93452381, 0.93452381, 0.93452381, 0.93452381,\n",
       "        0.93452381, 0.93452381, 0.93452381, 0.93253968, 0.93253968,\n",
       "        0.93253968, 0.93253968, 0.93253968, 0.93253968, 0.93253968,\n",
       "        0.93253968, 0.93253968, 0.93055556, 0.93055556, 0.93055556]),\n",
       " 'mean_test_AUC': array([0.87660317, 0.89011111, 0.89679365, 0.89722222, 0.89995238,\n",
       "        0.8995873 , 0.9       , 0.90115873, 0.9011746 , 0.90115873,\n",
       "        0.90192063, 0.90157143, 0.90198413, 0.90160317, 0.90160317,\n",
       "        0.90122222, 0.90122222, 0.90160317, 0.90120635, 0.90120635,\n",
       "        0.90120635, 0.90120635, 0.90120635, 0.90120635, 0.90120635,\n",
       "        0.90120635, 0.90120635, 0.90080952, 0.90120635, 0.90120635]),\n",
       " 'std_test_AUC': array([0.03615814, 0.03233344, 0.03549657, 0.03775129, 0.03857948,\n",
       "        0.03973411, 0.04033121, 0.04001894, 0.04087348, 0.04001894,\n",
       "        0.03982598, 0.04105047, 0.04227527, 0.04239425, 0.04239425,\n",
       "        0.04308594, 0.04308594, 0.04239425, 0.04209245, 0.04209245,\n",
       "        0.04209245, 0.04209245, 0.04209245, 0.04209245, 0.04209245,\n",
       "        0.04209245, 0.04209245, 0.04180355, 0.04216721, 0.04216721]),\n",
       " 'rank_test_AUC': array([30, 29, 28, 27, 25, 26, 24, 21, 20, 21,  2,  6,  1,  3,  3,  7,  7,\n",
       "         3,  9,  9,  9,  9,  9,  9,  9,  9,  9, 23,  9,  9], dtype=int32),\n",
       " 'split0_train_AUC': array([0.90353461, 0.9413353 , 0.9475945 , 0.94943544, 0.94980363,\n",
       "        0.94931271, 0.94992636, 0.95041728, 0.95004909, 0.94992636,\n",
       "        0.94955817, 0.95004909, 0.94992636, 0.94980363, 0.94955817,\n",
       "        0.9496809 , 0.94955817, 0.94980363, 0.9496809 , 0.9496809 ,\n",
       "        0.9496809 , 0.9496809 , 0.94955817, 0.94955817, 0.94955817,\n",
       "        0.9496809 , 0.94955817, 0.9496809 , 0.9496809 , 0.9496809 ]),\n",
       " 'split1_train_AUC': array([0.9018164 , 0.92083947, 0.92280314, 0.92525773, 0.9263623 ,\n",
       "        0.92746686, 0.92808051, 0.92808051, 0.92869416, 0.92808051,\n",
       "        0.92857143, 0.92869416, 0.92893962, 0.92881689, 0.92881689,\n",
       "        0.92930781, 0.92930781, 0.92943054, 0.92943054, 0.92943054,\n",
       "        0.92930781, 0.92943054, 0.92943054, 0.92943054, 0.92955326,\n",
       "        0.92967599, 0.92967599, 0.92979872, 0.92979872, 0.92967599]),\n",
       " 'split2_train_AUC': array([0.88265306, 0.9201895 , 0.92674927, 0.92942177, 0.93172983,\n",
       "        0.93270165, 0.93367347, 0.93391642, 0.93415938, 0.93415938,\n",
       "        0.93415938, 0.93379495, 0.93367347, 0.93355199, 0.93343052,\n",
       "        0.93343052, 0.93330904, 0.93330904, 0.93355199, 0.93379495,\n",
       "        0.9340379 , 0.93391642, 0.93355199, 0.93343052, 0.93355199,\n",
       "        0.93367347, 0.93367347, 0.93343052, 0.93330904, 0.93367347]),\n",
       " 'split3_train_AUC': array([0.88556851, 0.91144315, 0.91666667, 0.91958212, 0.92116132,\n",
       "        0.92189018, 0.92249757, 0.92322643, 0.92346939, 0.92419825,\n",
       "        0.92444121, 0.92444121, 0.92468416, 0.92468416, 0.92468416,\n",
       "        0.92468416, 0.92480564, 0.92529155, 0.92529155, 0.92517007,\n",
       "        0.92517007, 0.92529155, 0.92529155, 0.92529155, 0.92517007,\n",
       "        0.92529155, 0.92529155, 0.92541302, 0.92529155, 0.92529155]),\n",
       " 'split4_train_AUC': array([0.88155977, 0.91690962, 0.92079689, 0.92225462, 0.92346939,\n",
       "        0.92431973, 0.92456268, 0.92431973, 0.92456268, 0.92444121,\n",
       "        0.92444121, 0.92444121, 0.92444121, 0.92480564, 0.92456268,\n",
       "        0.92444121, 0.92456268, 0.92456268, 0.92444121, 0.92444121,\n",
       "        0.92431973, 0.92431973, 0.92431973, 0.92456268, 0.92456268,\n",
       "        0.92480564, 0.92480564, 0.92492711, 0.92492711, 0.92492711]),\n",
       " 'mean_train_AUC': array([0.89102647, 0.92214341, 0.92692209, 0.92919034, 0.93050529,\n",
       "        0.93113823, 0.93174812, 0.93199208, 0.93218694, 0.93216114,\n",
       "        0.93223428, 0.93228412, 0.93233296, 0.93233246, 0.93221048,\n",
       "        0.93230892, 0.93230867, 0.93247949, 0.93247924, 0.93250353,\n",
       "        0.93250328, 0.93252783, 0.93243039, 0.93245469, 0.93247924,\n",
       "        0.93262551, 0.93260096, 0.93265006, 0.93260146, 0.93264981]),\n",
       " 'std_train_AUC': array([0.00961663, 0.01015613, 0.01083546, 0.01063772, 0.01027525,\n",
       "        0.00978012, 0.00984693, 0.00994176, 0.00968784, 0.00958387,\n",
       "        0.009367  , 0.00952667, 0.00941938, 0.00931921, 0.00926371,\n",
       "        0.00929611, 0.00920703, 0.00921361, 0.00919365, 0.00921905,\n",
       "        0.00925617, 0.00922482, 0.00916912, 0.00912383, 0.00913781,\n",
       "        0.00911726, 0.00907136, 0.0090643 , 0.00908178, 0.00909652]),\n",
       " 'split0_test_Log_loss': array([-0.68907988, -0.49179475, -0.50791101, -0.52278875, -0.53514764,\n",
       "        -0.54548651, -0.55428065, -0.56185769, -0.568491  , -0.57433674,\n",
       "        -0.5795449 , -0.58421909, -0.58845424, -0.5923037 , -0.59583173,\n",
       "        -0.59905337, -0.60203932, -0.60479   , -0.60734559, -0.60972385,\n",
       "        -0.61194451, -0.61402415, -0.61596102, -0.61780789, -0.6195287 ,\n",
       "        -0.62116611, -0.62270769, -0.6241701 , -0.62555342, -0.62687393]),\n",
       " 'split1_test_Log_loss': array([-0.68911167, -0.45793071, -0.43894658, -0.43045475, -0.42568051,\n",
       "        -0.42268393, -0.42066645, -0.41923055, -0.4181716 , -0.41738104,\n",
       "        -0.41674829, -0.4162607 , -0.41587577, -0.41556633, -0.41530282,\n",
       "        -0.41508745, -0.41490223, -0.41474719, -0.41462093, -0.41450967,\n",
       "        -0.4144104 , -0.41433219, -0.41426272, -0.41420336, -0.4141654 ,\n",
       "        -0.41410544, -0.41406194, -0.41401886, -0.4139923 , -0.41396667]),\n",
       " 'split2_test_Log_loss': array([-0.69047113, -0.37048113, -0.35932909, -0.3566296 , -0.35606483,\n",
       "        -0.35624924, -0.35673268, -0.35733687, -0.35797062, -0.35861136,\n",
       "        -0.35922566, -0.35981723, -0.36036848, -0.360897  , -0.36138178,\n",
       "        -0.36185036, -0.36228921, -0.36269507, -0.36308542, -0.36344703,\n",
       "        -0.36378443, -0.3641104 , -0.36442377, -0.36471059, -0.36498077,\n",
       "        -0.365247  , -0.36549233, -0.36572472, -0.36594735, -0.36615958]),\n",
       " 'split3_test_Log_loss': array([-0.69051332, -0.40333595, -0.38193753, -0.37145684, -0.36504888,\n",
       "        -0.36072035, -0.35759626, -0.35524742, -0.35342015, -0.35196404,\n",
       "        -0.35078   , -0.34979858, -0.34897681, -0.34828825, -0.34768094,\n",
       "        -0.34715713, -0.34670493, -0.34630985, -0.34595713, -0.34563539,\n",
       "        -0.3453623 , -0.34510326, -0.34488322, -0.34467219, -0.344485  ,\n",
       "        -0.3443119 , -0.34415391, -0.34400765, -0.34387491, -0.34374648]),\n",
       " 'split4_test_Log_loss': array([-0.69048338, -0.36397208, -0.34541493, -0.33744584, -0.33281758,\n",
       "        -0.32974407, -0.32753235, -0.32586159, -0.32454857, -0.32348937,\n",
       "        -0.32261   , -0.32187309, -0.32124654, -0.32070401, -0.32023429,\n",
       "        -0.31981527, -0.31945171, -0.31912129, -0.3188265 , -0.31855538,\n",
       "        -0.31831786, -0.31810139, -0.31789563, -0.31771093, -0.31753468,\n",
       "        -0.31737766, -0.31723414, -0.31709965, -0.31696312, -0.31684748]),\n",
       " 'mean_test_Log_loss': array([-0.68993188, -0.41750292, -0.40670783, -0.40375516, -0.40295189,\n",
       "        -0.40297682, -0.40336168, -0.40390682, -0.40452039, -0.40515651,\n",
       "        -0.40578177, -0.40639374, -0.40698437, -0.40755186, -0.40808631,\n",
       "        -0.40859272, -0.40907748, -0.40953268, -0.40996712, -0.41037426,\n",
       "        -0.4107639 , -0.41113428, -0.41148527, -0.41182099, -0.41213891,\n",
       "        -0.41244162, -0.41273   , -0.4130042 , -0.41326622, -0.41351883]),\n",
       " 'std_test_Log_loss': array([0.00068289, 0.04986178, 0.05982734, 0.0671458 , 0.07286448,\n",
       "        0.07749773, 0.08135701, 0.0846296 , 0.08746007, 0.08992975,\n",
       "        0.09211308, 0.09405885, 0.09581155, 0.09739494, 0.09884181,\n",
       "        0.10015793, 0.10137106, 0.1024868 , 0.10351976, 0.10448096,\n",
       "        0.10537328, 0.10620827, 0.10698382, 0.1077231 , 0.10841175,\n",
       "        0.10906404, 0.10967766, 0.11025935, 0.11081056, 0.11133466]),\n",
       " 'rank_test_Log_loss': array([30, 29, 10,  4,  1,  2,  3,  5,  6,  7,  8,  9, 11, 12, 13, 14, 15,\n",
       "        16, 17, 18, 19, 20, 21, 22, 23, 24, 25, 26, 27, 28], dtype=int32),\n",
       " 'split0_train_Log_loss': array([-0.69006476, -0.34981914, -0.32330528, -0.31147416, -0.30463203,\n",
       "        -0.30015636, -0.29700305, -0.29466762, -0.29287228, -0.29145713,\n",
       "        -0.29031302, -0.28937588, -0.28859576, -0.28793493, -0.2873705 ,\n",
       "        -0.28688554, -0.28646383, -0.28609471, -0.28576986, -0.2854821 ,\n",
       "        -0.28522606, -0.284997  , -0.2847915 , -0.28460588, -0.28443697,\n",
       "        -0.28428504, -0.28414478, -0.28401819, -0.28390001, -0.28379197]),\n",
       " 'split1_train_Log_loss': array([-0.69004307, -0.37614523, -0.35952016, -0.35273099, -0.34902557,\n",
       "        -0.34671043, -0.34514003, -0.34401599, -0.3431825 , -0.34253951,\n",
       "        -0.34203446, -0.34163001, -0.34129993, -0.34102917, -0.34079924,\n",
       "        -0.34060439, -0.34044006, -0.34029731, -0.34017211, -0.34006363,\n",
       "        -0.33996854, -0.33988403, -0.3398096 , -0.3397423 , -0.33968223,\n",
       "        -0.33962861, -0.33957962, -0.33953578, -0.33949542, -0.33945896]),\n",
       " 'split2_train_Log_loss': array([-0.68975433, -0.38694721, -0.36578872, -0.35679873, -0.35177714,\n",
       "        -0.34858063, -0.3463803 , -0.34478427, -0.34358019, -0.34264807,\n",
       "        -0.34190497, -0.34130611, -0.34081152, -0.34039923, -0.34005054,\n",
       "        -0.33975351, -0.33949839, -0.33927745, -0.33908445, -0.33891555,\n",
       "        -0.33876626, -0.33863154, -0.3385121 , -0.33840516, -0.33830983,\n",
       "        -0.33822278, -0.33814429, -0.33807285, -0.33800763, -0.33794785]),\n",
       " 'split3_train_Log_loss': array([-0.68972819, -0.38632803, -0.36908988, -0.3620419 , -0.35816442,\n",
       "        -0.35572106, -0.35404919, -0.35284265, -0.35193667, -0.35123598,\n",
       "        -0.3506806 , -0.35023194, -0.34986419, -0.3495568 , -0.34929929,\n",
       "        -0.34908004, -0.34889192, -0.3487291 , -0.34858713, -0.3484627 ,\n",
       "        -0.34835291, -0.34825534, -0.34816888, -0.34809115, -0.34802137,\n",
       "        -0.34795873, -0.34790159, -0.3478495 , -0.34780222, -0.34775928]),\n",
       " 'split4_train_Log_loss': array([-0.68974437, -0.39319084, -0.37489998, -0.36758399, -0.36366928,\n",
       "        -0.36125877, -0.35964332, -0.35849913, -0.35765283, -0.35700843,\n",
       "        -0.35650366, -0.35609971, -0.35577272, -0.35550325, -0.35527672,\n",
       "        -0.35508665, -0.35492352, -0.35478425, -0.35466324, -0.35455703,\n",
       "        -0.35446497, -0.35438392, -0.3543113 , -0.35424617, -0.35418807,\n",
       "        -0.35413567, -0.35408898, -0.35404635, -0.35400771, -0.35397191]),\n",
       " 'mean_train_Log_loss': array([-0.68986695, -0.37848609, -0.3585208 , -0.35012595, -0.34545369,\n",
       "        -0.34248545, -0.34044318, -0.33896193, -0.3378449 , -0.33697782,\n",
       "        -0.33628734, -0.33572873, -0.33526883, -0.33488467, -0.33455926,\n",
       "        -0.33428203, -0.33404354, -0.33383656, -0.33365536, -0.3334962 ,\n",
       "        -0.33335575, -0.33323036, -0.33311867, -0.33301813, -0.33292769,\n",
       "        -0.33284617, -0.33277185, -0.33270453, -0.3326426 , -0.33258599]),\n",
       " 'std_train_Log_loss': array([0.00015304, 0.01534008, 0.0182972 , 0.01996019, 0.02103579,\n",
       "        0.02179162, 0.02235229, 0.02278511, 0.02312943, 0.02340828,\n",
       "        0.02363933, 0.02383208, 0.02399544, 0.02413645, 0.02425841,\n",
       "        0.02436452, 0.02445791, 0.02454067, 0.02461403, 0.02467958,\n",
       "        0.02473857, 0.02479163, 0.02483952, 0.02488295, 0.02492294,\n",
       "        0.02495887, 0.02499252, 0.02502274, 0.02505141, 0.0250776 ]),\n",
       " 'split0_test_Recall': array([1.  , 0.8 , 0.8 , 0.8 , 0.8 , 0.8 , 0.8 , 0.8 , 0.84, 0.84, 0.8 ,\n",
       "        0.8 , 0.8 , 0.8 , 0.8 , 0.76, 0.76, 0.76, 0.76, 0.76, 0.76, 0.76,\n",
       "        0.76, 0.76, 0.76, 0.76, 0.76, 0.72, 0.72, 0.72]),\n",
       " 'split1_test_Recall': array([1.  , 1.  , 1.  , 1.  , 0.96, 0.96, 0.96, 0.96, 0.96, 0.96, 0.96,\n",
       "        0.92, 0.92, 0.92, 0.92, 0.92, 0.92, 0.92, 0.92, 0.92, 0.92, 0.92,\n",
       "        0.92, 0.92, 0.92, 0.92, 0.92, 0.92, 0.92, 0.92]),\n",
       " 'split2_test_Recall': array([1.        , 0.91666667, 0.91666667, 0.91666667, 0.91666667,\n",
       "        0.91666667, 0.91666667, 0.91666667, 0.91666667, 0.91666667,\n",
       "        0.91666667, 0.91666667, 0.91666667, 0.91666667, 0.91666667,\n",
       "        0.91666667, 0.91666667, 0.91666667, 0.91666667, 0.91666667,\n",
       "        0.91666667, 0.91666667, 0.91666667, 0.91666667, 0.91666667,\n",
       "        0.91666667, 0.91666667, 0.91666667, 0.91666667, 0.91666667]),\n",
       " 'split3_test_Recall': array([1.        , 0.875     , 0.83333333, 0.875     , 0.875     ,\n",
       "        0.875     , 0.875     , 0.875     , 0.875     , 0.875     ,\n",
       "        0.875     , 0.875     , 0.875     , 0.875     , 0.875     ,\n",
       "        0.875     , 0.875     , 0.875     , 0.875     , 0.875     ,\n",
       "        0.875     , 0.875     , 0.875     , 0.875     , 0.875     ,\n",
       "        0.875     , 0.875     , 0.875     , 0.875     , 0.875     ]),\n",
       " 'split4_test_Recall': array([1.        , 0.95833333, 0.95833333, 0.95833333, 0.95833333,\n",
       "        0.91666667, 0.91666667, 0.91666667, 0.91666667, 0.91666667,\n",
       "        0.91666667, 0.91666667, 0.91666667, 0.91666667, 0.91666667,\n",
       "        0.91666667, 0.91666667, 0.91666667, 0.91666667, 0.91666667,\n",
       "        0.91666667, 0.91666667, 0.91666667, 0.91666667, 0.91666667,\n",
       "        0.91666667, 0.91666667, 0.91666667, 0.91666667, 0.91666667]),\n",
       " 'mean_test_Recall': array([1.        , 0.91      , 0.90166667, 0.91      , 0.902     ,\n",
       "        0.89366667, 0.89366667, 0.89366667, 0.90166667, 0.90166667,\n",
       "        0.89366667, 0.88566667, 0.88566667, 0.88566667, 0.88566667,\n",
       "        0.87766667, 0.87766667, 0.87766667, 0.87766667, 0.87766667,\n",
       "        0.87766667, 0.87766667, 0.87766667, 0.87766667, 0.87766667,\n",
       "        0.87766667, 0.87766667, 0.86966667, 0.86966667, 0.86966667]),\n",
       " 'std_test_Recall': array([0.        , 0.06900081, 0.07498148, 0.06900081, 0.05980896,\n",
       "        0.054     , 0.054     , 0.054     , 0.0409064 , 0.0409064 ,\n",
       "        0.054     , 0.04594199, 0.04594199, 0.04594199, 0.04594199,\n",
       "        0.06113373, 0.06113373, 0.06113373, 0.06113373, 0.06113373,\n",
       "        0.06113373, 0.06113373, 0.06113373, 0.06113373, 0.06113373,\n",
       "        0.06113373, 0.06113373, 0.07665507, 0.07665507, 0.07665507]),\n",
       " 'rank_test_Recall': array([ 1,  2,  5,  2,  4,  8,  8,  8,  6,  6,  8, 12, 12, 12, 12, 16, 16,\n",
       "        16, 16, 16, 16, 16, 16, 16, 16, 16, 16, 28, 28, 28], dtype=int32),\n",
       " 'split0_train_Recall': array([1.        , 0.94845361, 0.92783505, 0.92783505, 0.91752577,\n",
       "        0.91752577, 0.91752577, 0.90721649, 0.90721649, 0.90721649,\n",
       "        0.90721649, 0.90721649, 0.90721649, 0.90721649, 0.90721649,\n",
       "        0.90721649, 0.90721649, 0.90721649, 0.90721649, 0.90721649,\n",
       "        0.89690722, 0.89690722, 0.89690722, 0.89690722, 0.89690722,\n",
       "        0.89690722, 0.89690722, 0.89690722, 0.89690722, 0.89690722]),\n",
       " 'split1_train_Recall': array([1.        , 0.90721649, 0.90721649, 0.90721649, 0.90721649,\n",
       "        0.90721649, 0.90721649, 0.90721649, 0.90721649, 0.90721649,\n",
       "        0.90721649, 0.90721649, 0.90721649, 0.90721649, 0.90721649,\n",
       "        0.90721649, 0.90721649, 0.90721649, 0.90721649, 0.90721649,\n",
       "        0.90721649, 0.90721649, 0.90721649, 0.90721649, 0.90721649,\n",
       "        0.90721649, 0.90721649, 0.90721649, 0.90721649, 0.90721649]),\n",
       " 'split2_train_Recall': array([1.        , 0.92857143, 0.91836735, 0.90816327, 0.90816327,\n",
       "        0.90816327, 0.90816327, 0.89795918, 0.8877551 , 0.8877551 ,\n",
       "        0.87755102, 0.87755102, 0.87755102, 0.87755102, 0.87755102,\n",
       "        0.87755102, 0.87755102, 0.87755102, 0.87755102, 0.87755102,\n",
       "        0.87755102, 0.87755102, 0.87755102, 0.87755102, 0.87755102,\n",
       "        0.87755102, 0.87755102, 0.87755102, 0.87755102, 0.87755102]),\n",
       " 'split3_train_Recall': array([1.        , 0.90816327, 0.91836735, 0.91836735, 0.91836735,\n",
       "        0.91836735, 0.91836735, 0.90816327, 0.90816327, 0.90816327,\n",
       "        0.90816327, 0.90816327, 0.90816327, 0.90816327, 0.90816327,\n",
       "        0.90816327, 0.90816327, 0.90816327, 0.90816327, 0.90816327,\n",
       "        0.90816327, 0.90816327, 0.90816327, 0.90816327, 0.90816327,\n",
       "        0.90816327, 0.90816327, 0.90816327, 0.90816327, 0.90816327]),\n",
       " 'split4_train_Recall': array([1.        , 0.90816327, 0.90816327, 0.89795918, 0.89795918,\n",
       "        0.89795918, 0.89795918, 0.8877551 , 0.8877551 , 0.8877551 ,\n",
       "        0.8877551 , 0.8877551 , 0.8877551 , 0.8877551 , 0.8877551 ,\n",
       "        0.8877551 , 0.8877551 , 0.8877551 , 0.8877551 , 0.8877551 ,\n",
       "        0.8877551 , 0.8877551 , 0.8877551 , 0.8877551 , 0.8877551 ,\n",
       "        0.8877551 , 0.8877551 , 0.8877551 , 0.8877551 , 0.8877551 ]),\n",
       " 'mean_train_Recall': array([1.        , 0.92011361, 0.9159899 , 0.91190827, 0.90984641,\n",
       "        0.90984641, 0.90984641, 0.90166211, 0.89962129, 0.89962129,\n",
       "        0.89758048, 0.89758048, 0.89758048, 0.89758048, 0.89758048,\n",
       "        0.89758048, 0.89758048, 0.89758048, 0.89758048, 0.89758048,\n",
       "        0.89551862, 0.89551862, 0.89551862, 0.89551862, 0.89551862,\n",
       "        0.89551862, 0.89551862, 0.89551862, 0.89551862, 0.89551862]),\n",
       " 'std_train_Recall': array([0.        , 0.01628894, 0.00761368, 0.01025667, 0.00751844,\n",
       "        0.00751844, 0.00751844, 0.00788776, 0.00969487, 0.00969487,\n",
       "        0.01261284, 0.01261284, 0.01261284, 0.01261284, 0.01261284,\n",
       "        0.01261284, 0.01261284, 0.01261284, 0.01261284, 0.01261284,\n",
       "        0.01167701, 0.01167701, 0.01167701, 0.01167701, 0.01167701,\n",
       "        0.01167701, 0.01167701, 0.01167701, 0.01167701, 0.01167701])}"
      ]
     },
     "execution_count": 47,
     "metadata": {},
     "output_type": "execute_result"
    }
   ],
   "source": [
    "grid_log_reg.cv_results_"
   ]
  },
  {
   "cell_type": "code",
   "execution_count": 48,
   "metadata": {
    "execution": {
     "iopub.execute_input": "2021-06-11T14:49:05.488015Z",
     "iopub.status.busy": "2021-06-11T14:49:05.487089Z",
     "iopub.status.idle": "2021-06-11T14:49:05.491511Z",
     "shell.execute_reply": "2021-06-11T14:49:05.490976Z",
     "shell.execute_reply.started": "2021-06-07T14:48:12.817727Z"
    },
    "papermill": {
     "duration": 0.078603,
     "end_time": "2021-06-11T14:49:05.491638",
     "exception": false,
     "start_time": "2021-06-11T14:49:05.413035",
     "status": "completed"
    },
    "tags": []
   },
   "outputs": [
    {
     "data": {
      "text/plain": [
       "{'C': 0.40001000000000003}"
      ]
     },
     "execution_count": 48,
     "metadata": {},
     "output_type": "execute_result"
    }
   ],
   "source": [
    "grid_log_reg.best_params_"
   ]
  },
  {
   "cell_type": "code",
   "execution_count": 49,
   "metadata": {
    "execution": {
     "iopub.execute_input": "2021-06-11T14:49:05.635336Z",
     "iopub.status.busy": "2021-06-11T14:49:05.634505Z",
     "iopub.status.idle": "2021-06-11T14:49:05.637480Z",
     "shell.execute_reply": "2021-06-11T14:49:05.636995Z",
     "shell.execute_reply.started": "2021-06-07T14:56:16.184452Z"
    },
    "papermill": {
     "duration": 0.076382,
     "end_time": "2021-06-11T14:49:05.637615",
     "exception": false,
     "start_time": "2021-06-11T14:49:05.561233",
     "status": "completed"
    },
    "tags": []
   },
   "outputs": [],
   "source": [
    "best_clf = grid_log_reg.best_estimator_"
   ]
  },
  {
   "cell_type": "code",
   "execution_count": 50,
   "metadata": {
    "execution": {
     "iopub.execute_input": "2021-06-11T14:49:05.784836Z",
     "iopub.status.busy": "2021-06-11T14:49:05.783990Z",
     "iopub.status.idle": "2021-06-11T14:49:05.787815Z",
     "shell.execute_reply": "2021-06-11T14:49:05.787298Z",
     "shell.execute_reply.started": "2021-06-07T14:48:17.944215Z"
    },
    "papermill": {
     "duration": 0.080273,
     "end_time": "2021-06-11T14:49:05.787949",
     "exception": false,
     "start_time": "2021-06-11T14:49:05.707676",
     "status": "completed"
    },
    "tags": []
   },
   "outputs": [
    {
     "data": {
      "text/plain": [
       "86.0"
      ]
     },
     "execution_count": 50,
     "metadata": {},
     "output_type": "execute_result"
    }
   ],
   "source": [
    "best_clf.score(scaled_X_train, y_train).round(2)*100"
   ]
  },
  {
   "cell_type": "code",
   "execution_count": 51,
   "metadata": {
    "execution": {
     "iopub.execute_input": "2021-06-11T14:49:05.937668Z",
     "iopub.status.busy": "2021-06-11T14:49:05.934069Z",
     "iopub.status.idle": "2021-06-11T14:49:06.238878Z",
     "shell.execute_reply": "2021-06-11T14:49:06.239302Z",
     "shell.execute_reply.started": "2021-06-07T14:56:20.663864Z"
    },
    "papermill": {
     "duration": 0.38129,
     "end_time": "2021-06-11T14:49:06.239467",
     "exception": false,
     "start_time": "2021-06-11T14:49:05.858177",
     "status": "completed"
    },
    "tags": []
   },
   "outputs": [
    {
     "name": "stdout",
     "output_type": "stream",
     "text": [
      "accuracy 83.0\n",
      "precision 81.0\n",
      "recall 90.0\n",
      "f1 85.0\n",
      "roc_auc 90.0\n"
     ]
    }
   ],
   "source": [
    "scoring = ['accuracy', 'precision', 'recall', 'f1', 'roc_auc']\n",
    "\n",
    "for n in scoring:\n",
    "    scores = cross_val_score(best_clf, scaled_X_train, y_train, cv=5, scoring=n).mean()\n",
    "    print(n, round((scores),2)*100)"
   ]
  },
  {
   "cell_type": "markdown",
   "metadata": {
    "papermill": {
     "duration": 0.070673,
     "end_time": "2021-06-11T14:49:06.380983",
     "exception": false,
     "start_time": "2021-06-11T14:49:06.310310",
     "status": "completed"
    },
    "tags": []
   },
   "source": [
    "# Prediction"
   ]
  },
  {
   "cell_type": "code",
   "execution_count": 52,
   "metadata": {
    "execution": {
     "iopub.execute_input": "2021-06-11T14:49:06.530806Z",
     "iopub.status.busy": "2021-06-11T14:49:06.530214Z",
     "iopub.status.idle": "2021-06-11T14:49:06.533227Z",
     "shell.execute_reply": "2021-06-11T14:49:06.532673Z",
     "shell.execute_reply.started": "2021-06-07T14:56:27.100899Z"
    },
    "papermill": {
     "duration": 0.082153,
     "end_time": "2021-06-11T14:49:06.533349",
     "exception": false,
     "start_time": "2021-06-11T14:49:06.451196",
     "status": "completed"
    },
    "tags": []
   },
   "outputs": [],
   "source": [
    "prediction = best_clf.predict(scaled_X_test)\n",
    "probability = best_clf.predict_proba(scaled_X_test)"
   ]
  },
  {
   "cell_type": "code",
   "execution_count": 53,
   "metadata": {
    "execution": {
     "iopub.execute_input": "2021-06-11T14:49:06.680310Z",
     "iopub.status.busy": "2021-06-11T14:49:06.679674Z",
     "iopub.status.idle": "2021-06-11T14:49:06.682481Z",
     "shell.execute_reply": "2021-06-11T14:49:06.682052Z",
     "shell.execute_reply.started": "2021-06-07T14:56:30.032337Z"
    },
    "papermill": {
     "duration": 0.079308,
     "end_time": "2021-06-11T14:49:06.682621",
     "exception": false,
     "start_time": "2021-06-11T14:49:06.603313",
     "status": "completed"
    },
    "tags": []
   },
   "outputs": [],
   "source": [
    "probability_train = best_clf.predict_proba(scaled_X_train)"
   ]
  },
  {
   "cell_type": "code",
   "execution_count": 54,
   "metadata": {
    "_kg_hide-input": true,
    "_kg_hide-output": false,
    "execution": {
     "iopub.execute_input": "2021-06-11T14:49:06.878295Z",
     "iopub.status.busy": "2021-06-11T14:49:06.877696Z",
     "iopub.status.idle": "2021-06-11T14:49:06.887475Z",
     "shell.execute_reply": "2021-06-11T14:49:06.887002Z",
     "shell.execute_reply.started": "2021-06-07T14:56:32.743909Z"
    },
    "papermill": {
     "duration": 0.135106,
     "end_time": "2021-06-11T14:49:06.887603",
     "exception": false,
     "start_time": "2021-06-11T14:49:06.752497",
     "status": "completed"
    },
    "tags": []
   },
   "outputs": [
    {
     "name": "stdout",
     "output_type": "stream",
     "text": [
      "Accuracy:  83.0\n",
      "Precision:  81.0\n",
      "Recall:  91.0\n",
      "F1-score:  86.0\n",
      "\n",
      "Confusion matrix: \n",
      "[[24  9]\n",
      " [ 4 39]]\n"
     ]
    }
   ],
   "source": [
    "print('Accuracy: ', round(accuracy_score(y_test, prediction),2)*100)\n",
    "print('Precision: ', round(precision_score(y_test, prediction),2)*100)\n",
    "print('Recall: ', round(recall_score(y_test, prediction),2)*100)\n",
    "print('F1-score: ', round(f1_score(y_test, prediction),2)*100)\n",
    "print()\n",
    "print('Confusion matrix: ', confusion_matrix(y_test, prediction), sep='\\n')"
   ]
  },
  {
   "cell_type": "code",
   "execution_count": 55,
   "metadata": {
    "execution": {
     "iopub.execute_input": "2021-06-11T14:49:07.034096Z",
     "iopub.status.busy": "2021-06-11T14:49:07.033488Z",
     "iopub.status.idle": "2021-06-11T14:49:07.205028Z",
     "shell.execute_reply": "2021-06-11T14:49:07.205440Z",
     "shell.execute_reply.started": "2021-06-07T14:56:40.737565Z"
    },
    "papermill": {
     "duration": 0.247483,
     "end_time": "2021-06-11T14:49:07.205613",
     "exception": false,
     "start_time": "2021-06-11T14:49:06.958130",
     "status": "completed"
    },
    "tags": []
   },
   "outputs": [
    {
     "data": {
      "image/png": "[encoded data removed]",
      "text/plain": [
       "<Figure size 432x288 with 1 Axes>"
      ]
     },
     "metadata": {
      "needs_background": "light"
     },
     "output_type": "display_data"
    }
   ],
   "source": [
    "train_auc = roc_auc_score(y_train, probability_train[:, 1])\n",
    "test_auc = roc_auc_score(y_test, probability[:, 1])\n",
    "\n",
    "plt.figure()\n",
    "plt.plot(*roc_curve(y_train, probability_train[:, 1])[:2], label='train AUC={:.4f}'.format(train_auc))\n",
    "plt.plot(*roc_curve(y_test, probability[:, 1])[:2], label='train AUC={:.4f}'.format(test_auc))\n",
    "\n",
    "legend_box = plt.legend(fontsize='large', framealpha=1).get_frame()\n",
    "legend_box.set_facecolor('white')\n",
    "legend_box.set_edgecolor('black')\n",
    "plt.plot(np.linspace(0,1,100), np.linspace(0,1,100))\n",
    "\n",
    "plt.show()"
   ]
  },
  {
   "cell_type": "markdown",
   "metadata": {
    "papermill": {
     "duration": 0.072192,
     "end_time": "2021-06-11T14:49:07.348474",
     "exception": false,
     "start_time": "2021-06-11T14:49:07.276282",
     "status": "completed"
    },
    "tags": []
   },
   "source": [
    "# Gain Recall to 95% by specifying threshold for positive class"
   ]
  },
  {
   "cell_type": "code",
   "execution_count": 56,
   "metadata": {
    "execution": {
     "iopub.execute_input": "2021-06-11T14:49:07.493042Z",
     "iopub.status.busy": "2021-06-11T14:49:07.492455Z",
     "iopub.status.idle": "2021-06-11T14:49:07.654364Z",
     "shell.execute_reply": "2021-06-11T14:49:07.654859Z",
     "shell.execute_reply.started": "2021-06-07T14:51:53.144269Z"
    },
    "papermill": {
     "duration": 0.236315,
     "end_time": "2021-06-11T14:49:07.655033",
     "exception": false,
     "start_time": "2021-06-11T14:49:07.418718",
     "status": "completed"
    },
    "tags": []
   },
   "outputs": [
    {
     "data": {
      "image/png": "[encoded data removed]",
      "text/plain": [
       "<Figure size 432x288 with 1 Axes>"
      ]
     },
     "metadata": {
      "needs_background": "light"
     },
     "output_type": "display_data"
    }
   ],
   "source": [
    "pd.Series(probability[:, 1]).hist()\n",
    "plt.show()"
   ]
  },
  {
   "cell_type": "markdown",
   "metadata": {
    "papermill": {
     "duration": 0.071716,
     "end_time": "2021-06-11T14:49:07.798300",
     "exception": false,
     "start_time": "2021-06-11T14:49:07.726584",
     "status": "completed"
    },
    "tags": []
   },
   "source": [
    "Historgam of predicted probabilities. We can see the highest area between 0.4-0.5 in flat middle. I will adjust threshold = 0.4 to include this area in posotive class"
   ]
  },
  {
   "cell_type": "code",
   "execution_count": 57,
   "metadata": {
    "execution": {
     "iopub.execute_input": "2021-06-11T14:49:07.945099Z",
     "iopub.status.busy": "2021-06-11T14:49:07.944411Z",
     "iopub.status.idle": "2021-06-11T14:49:08.115390Z",
     "shell.execute_reply": "2021-06-11T14:49:08.115815Z",
     "shell.execute_reply.started": "2021-06-04T12:08:38.428684Z"
    },
    "papermill": {
     "duration": 0.246189,
     "end_time": "2021-06-11T14:49:08.115989",
     "exception": false,
     "start_time": "2021-06-11T14:49:07.869800",
     "status": "completed"
    },
    "tags": []
   },
   "outputs": [
    {
     "data": {
      "text/plain": [
       "<sklearn.metrics._plot.precision_recall_curve.PrecisionRecallDisplay at 0x7f32d49fb390>"
      ]
     },
     "execution_count": 57,
     "metadata": {},
     "output_type": "execute_result"
    },
    {
     "data": {
      "image/png": "[encoded data removed]",
      "text/plain": [
       "<Figure size 432x288 with 1 Axes>"
      ]
     },
     "metadata": {
      "needs_background": "light"
     },
     "output_type": "display_data"
    }
   ],
   "source": [
    "plot_precision_recall_curve(best_clf, scaled_X_test, y_test)"
   ]
  },
  {
   "cell_type": "markdown",
   "metadata": {
    "papermill": {
     "duration": 0.072297,
     "end_time": "2021-06-11T14:49:08.260588",
     "exception": false,
     "start_time": "2021-06-11T14:49:08.188291",
     "status": "completed"
    },
    "tags": []
   },
   "source": [
    "This is precision-recall curve where we can see dependence between these variables"
   ]
  },
  {
   "cell_type": "code",
   "execution_count": 58,
   "metadata": {
    "execution": {
     "iopub.execute_input": "2021-06-11T14:49:08.408617Z",
     "iopub.status.busy": "2021-06-11T14:49:08.408094Z",
     "iopub.status.idle": "2021-06-11T14:49:08.411582Z",
     "shell.execute_reply": "2021-06-11T14:49:08.412009Z",
     "shell.execute_reply.started": "2021-06-04T12:09:18.248136Z"
    },
    "papermill": {
     "duration": 0.078265,
     "end_time": "2021-06-11T14:49:08.412166",
     "exception": false,
     "start_time": "2021-06-11T14:49:08.333901",
     "status": "completed"
    },
    "tags": []
   },
   "outputs": [],
   "source": [
    "prediction_with_threshold = np.where(probability[:, 1] > 0.4, 1, 0)"
   ]
  },
  {
   "cell_type": "code",
   "execution_count": 59,
   "metadata": {
    "_kg_hide-input": true,
    "execution": {
     "iopub.execute_input": "2021-06-11T14:49:08.560362Z",
     "iopub.status.busy": "2021-06-11T14:49:08.559758Z",
     "iopub.status.idle": "2021-06-11T14:49:08.573355Z",
     "shell.execute_reply": "2021-06-11T14:49:08.572618Z",
     "shell.execute_reply.started": "2021-06-04T12:12:27.97519Z"
    },
    "papermill": {
     "duration": 0.088771,
     "end_time": "2021-06-11T14:49:08.573532",
     "exception": false,
     "start_time": "2021-06-11T14:49:08.484761",
     "status": "completed"
    },
    "tags": []
   },
   "outputs": [
    {
     "name": "stdout",
     "output_type": "stream",
     "text": [
      "Accuracy with adjusted threshold:  84.0\n",
      "Precision with adjusted threshold:  80.0\n",
      "Recall with adjusted threshold:  95.0\n",
      "F1-score with adjusted threshold:  87.0\n",
      "\n",
      "Confusion matrix with adjusted threshold: \n",
      "[[23 10]\n",
      " [ 2 41]]\n"
     ]
    }
   ],
   "source": [
    "print('Accuracy with adjusted threshold: ', round(accuracy_score(y_test, prediction_with_threshold),2)*100)\n",
    "print('Precision with adjusted threshold: ', round(precision_score(y_test, prediction_with_threshold),2)*100)\n",
    "print('Recall with adjusted threshold: ', round(recall_score(y_test, prediction_with_threshold),2)*100)\n",
    "print('F1-score with adjusted threshold: ', round(f1_score(y_test, prediction_with_threshold),2)*100)\n",
    "print()\n",
    "print('Confusion matrix with adjusted threshold: ', confusion_matrix(y_test, prediction_with_threshold), sep='\\n')"
   ]
  },
  {
   "cell_type": "markdown",
   "metadata": {
    "papermill": {
     "duration": 0.072733,
     "end_time": "2021-06-11T14:49:08.722213",
     "exception": false,
     "start_time": "2021-06-11T14:49:08.649480",
     "status": "completed"
    },
    "tags": []
   },
   "source": [
    "# Summary:\n",
    "* loaded few modules and looked through dataset\n",
    "* binned some features\n",
    "* visulaization of few relationships bewteen variables and individual variables.\n",
    "* feature correaltion visualization\n",
    "* prepared and compared dataset with different scaling\n",
    "* chose algorithm with cross-validation\n",
    "* tuned model with GridSearchCV\n",
    "* gained recall to the specified value (95%)."
   ]
  },
  {
   "cell_type": "markdown",
   "metadata": {
    "papermill": {
     "duration": 0.072292,
     "end_time": "2021-06-11T14:49:08.867599",
     "exception": false,
     "start_time": "2021-06-11T14:49:08.795307",
     "status": "completed"
    },
    "tags": []
   },
   "source": [
    "**Thanks for reading**"
   ]
  }
 ],
 "metadata": {
  "kernelspec": {
   "display_name": "Python 3",
   "language": "python",
   "name": "python3"
  },
  "language_info": {
   "codemirror_mode": {
    "name": "ipython",
    "version": 3
   },
   "file_extension": ".py",
   "mimetype": "text/x-python",
   "name": "python",
   "nbconvert_exporter": "python",
   "pygments_lexer": "ipython3",
   "version": "3.8.1"
  },
  "papermill": {
   "default_parameters": {},
   "duration": 42.888462,
   "end_time": "2021-06-11T14:49:10.303745",
   "environment_variables": {},
   "exception": null,
   "input_path": "__notebook__.ipynb",
   "output_path": "__notebook__.ipynb",
   "parameters": {},
   "start_time": "2021-06-11T14:48:27.415283",
   "version": "2.3.3"
  }
 },
 "nbformat": 4,
 "nbformat_minor": 5
}
